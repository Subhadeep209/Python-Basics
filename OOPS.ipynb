{
  "nbformat": 4,
  "nbformat_minor": 0,
  "metadata": {
    "colab": {
      "provenance": []
    },
    "kernelspec": {
      "name": "python3",
      "display_name": "Python 3"
    },
    "language_info": {
      "name": "python"
    }
  },
  "cells": [
    {
      "cell_type": "markdown",
      "source": [
        "1. What is Object-Oriented Programming (OOP)?\n",
        " - Object-Oriented Programming (OOP) is a way of writing code using classes and objects. A class is like a template, and an object is an actual item created from that template. OOP bundles data and actions together (encapsulation), allows one class to use another’s features (inheritance), and lets methods behave differently depending on the object (polymorphism). It's used to keep code clean, reusable, and easier to manage.\n",
        "\n",
        "2. What is a class in OOP?\n",
        " -  In Object-Oriented Programming, a class is like a blueprint for creating objects. It defines the structure (attributes) and behavior (methods) that the objects built from it will have. You don't interact directly with a class—you create objects based on it, and those objects use the class's design to function.\n",
        "3. What is an object in OOP?\n",
        " - An object in OOP is a real instance of a class. It holds actual data and can perform actions defined by the class. If a class is the plan, the object is the building—built from that plan and ready to use. Every object has attributes (data) and methods (functions) based on its class.\n",
        "4. What is the difference between abstraction and encapsulation?\n",
        " - Abstraction is about showing only the essential features of something and hiding the details that aren’t important. Encapsulation is about wrapping data and code together in one unit and restricting direct access to parts of it to protect it. In short, abstraction focuses on what an object does, while encapsulation focuses on how it does it.\n",
        "5. What are dunder methods in Python?\n",
        " - Dunder methods (short for “double underscore” methods) in Python are special built-in methods with names that start and end with two underscores, like __init__, __str__, or __len__. They're also called magic methods because they let you define how your objects behave with built-in Python operations.\n",
        "For example:\n",
        "    - __init__ lets you initialize object properties when it's created.\n",
        "    - __str__ defines what the object should print like as a string.\n",
        "    - __add__ allows you to use + between two objects of a class.\n",
        "\n",
        " - Here’s a quick example:\n"
      ],
      "metadata": {
        "id": "U9gnXJdvK_WE"
      }
    },
    {
      "cell_type": "code",
      "execution_count": 1,
      "metadata": {
        "colab": {
          "base_uri": "https://localhost:8080/"
        },
        "id": "qBN9UwuxK8By",
        "outputId": "3a4f6801-73b5-4ec7-97fb-16309fecdcff"
      },
      "outputs": [
        {
          "output_type": "stream",
          "name": "stdout",
          "text": [
            "Book: Python Basics\n"
          ]
        }
      ],
      "source": [
        "class Book:\n",
        "    def __init__(self, title):\n",
        "        self.title = title\n",
        "\n",
        "    def __str__(self):\n",
        "        return f\"Book: {self.title}\"\n",
        "\n",
        "my_book = Book(\"Python Basics\")\n",
        "print(my_book)"
      ]
    },
    {
      "cell_type": "markdown",
      "source": [
        "6. Explain the concept of inheritance in OOP?\n",
        " - Inheritance in Object-Oriented Programming means a class can use properties and methods from another class. The original class is called the parent (or base) class, and the class that inherits is the child (or derived) class. This helps avoid rewriting code and promotes reuse.\n",
        " - For example:\n"
      ],
      "metadata": {
        "id": "g36jMvysNoQm"
      }
    },
    {
      "cell_type": "code",
      "source": [
        "class Animal:\n",
        "    def speak(self):\n",
        "        return \"Some sound\"\n",
        "\n",
        "class Dog(Animal):\n",
        "    pass\n",
        "\n",
        "my_dog = Dog()\n",
        "print(my_dog.speak())"
      ],
      "metadata": {
        "colab": {
          "base_uri": "https://localhost:8080/"
        },
        "id": "adOVmI4cN6o3",
        "outputId": "5feb4015-0f4a-4d97-b877-4da3574cae4d"
      },
      "execution_count": 2,
      "outputs": [
        {
          "output_type": "stream",
          "name": "stdout",
          "text": [
            "Some sound\n"
          ]
        }
      ]
    },
    {
      "cell_type": "markdown",
      "source": [
        "7. What is polymorphism in OOP?\n",
        " - Polymorphism in Object-Oriented Programming means that the same method name or operation can behave differently depending on the object that’s using it. It allows different classes to define their own version of a method, even if they share the same name.\n",
        "8. How is encapsulation achieved in Python?\n",
        " - Encapsulation in Python is achieved by defining attributes and methods inside a class and controlling their access using access modifiers.\n",
        "We do this by:\n",
        "    - Using a single underscore _ for protected members (suggests internal use).\n",
        "    - Using double underscores __ for private members (name mangling hides them from outside access).\n",
        "    - Providing getter and setter methods to access or update private data safely.\n",
        "9. What is a constructor in Python?\n",
        " - A constructor in Python is a special method called __init__() that runs automatically when you create a new object from a class. It’s used to set up the object with initial values.\n",
        "10. What are class and static methods in Python?\n",
        " - In Python, both class methods and static methods are used inside classes but behave differently from regular methods.\n",
        "\n",
        "      A class method is defined using @classmethod and takes cls as its first argument, referring to the class itself. It can access or modify class-level attributes but not instance-specific data.\n",
        "\n",
        "      A static method is defined using @staticmethod and doesn’t take self or cls. It behaves like a regular function but belongs to the class for organizational purposes.\n",
        "11. What is method overloading in Python?\n",
        " - Method overloading means having multiple methods with the same name but different parameters. It helps perform different tasks based on input.\n",
        "In Python, it’s not directly supported like in some other languages, but you can mimic it using default arguments or *args.\n",
        "12. What is method overriding in OOP?\n",
        " - Method overriding in Object-Oriented Programming means redefining a method in a child class that already exists in the parent class. It lets the child class provide its own specific behavior while keeping the same method name.\n",
        "13. What is a property decorator in Python?\n",
        " - In Python, a property decorator (@property) is used to turn a method into a read-only attribute. It lets you access method results like attributes, without using parentheses.\n",
        "14. Why is polymorphism important in OOP?\n",
        " - Polymorphism is important in OOP because it makes your code more flexible, reusable, and easier to extend. It lets you use the same interface (like a method name) across different classes, while each class can have its own version of that method.\n",
        "\n",
        "      This means you can write code that works with objects of different types without worrying about their specific classes. As long as they follow the same interface, they can be used interchangeably. This is especially useful in large programs or frameworks where new classes might be added later.\n",
        "15. What is an abstract class in Python?\n",
        " -  An abstract class in Python is a class that defines a common structure or behavior for its subclasses but cannot be used to create objects directly. It's used when you want to make sure all child classes implement certain methods, but you don’t want the base class to do the actual work itself.\n",
        "\n",
        "      It works like a contract: any subclass must define all the abstract methods declared in the abstract class. This helps enforce consistency and design in complex systems.\n",
        "16.  What are the advantages of OOP?\n",
        " - Object-Oriented Programming (OOP) offers several key advantages:\n",
        "It makes code more modular—you can break down problems into smaller, manageable pieces. It promotes reusability, so once you've built a class, you can use it across multiple programs. OOP also improves maintainability, as changes to code are easier to track and implement. It encourages data protection through encapsulation, helping prevent unintended interference. And finally, it allows for scalability, making it easier to build larger systems in a structured way.\n",
        "17. What is the difference between a class variable and an instance variable?\n",
        " - A class variable is shared by all objects of a class, while an instance variable is unique to each object.\n",
        "\n",
        "      Class variables are defined at the class level and store values common to all instances. If one object changes the class variable, it affects all other instances that use it.\n",
        "\n",
        "      Instance variables, on the other hand, are defined inside the constructor (__init__) and store data specific to that object. Changing one object’s instance variable won’t affect others.\n",
        "\n",
        "      In short: class variable = shared, instance variable = personal.\n",
        "18. What is multiple inheritance in Python?\n",
        " - Multiple inheritance in Python means a class can inherit from more than one parent class at the same time. This allows the child class to access attributes and methods from all its parent classes.\n",
        "  \n",
        "     It’s powerful because it lets you combine features from different classes, but it also requires careful handling to avoid conflicts—especially when parent classes have methods with the same name. Python uses a rule called Method Resolution Order (MRO) to determine which method to use when there’s a conflict.\n",
        "19. Explain the purpose of ‘’__str__’ and ‘__repr__’ ‘ methods in Python.\n",
        " - In Python, __str__ and __repr__ are special methods used to define how an object is represented as a string.\n",
        "      - __str__ is meant for users. It defines what gets shown when you print an object, aiming to be readable and friendly.\n",
        "      - __repr__ is meant for developers. It should return a string that, ideally, could be used to recreate the object. It’s more precise and formal.\n",
        "\n",
        "      If both are defined, print(obj) uses __str__. If __str__ isn’t present, Python falls back to __repr__.\n",
        "20. What is the significance of the ‘super()’ function in Python?\n",
        " - The super() function in Python is used to give access to methods and properties of a parent class from a child class. Its main purpose is to help you reuse code by calling the parent class’s version of a method without having to refer to the parent’s name directly.\n",
        "      \n",
        "      It’s especially useful in inheritance when a child class overrides a method but still wants to use the parent’s version as part of its behavior. This becomes even more important in multiple inheritance, where Python needs a reliable way to determine which class to call next—super() works with the Method Resolution Order (MRO) to handle that smoothly.\n",
        "21. What is the significance of the __del__ method in Python?\n",
        " - The __del__ method in Python is a special method called a destructor. It's automatically triggered when an object is about to be destroyed—usually when it goes out of scope or Python’s garbage collector reclaims it.\n",
        "\n",
        "      Its main purpose is to perform cleanup tasks, like closing files, releasing network connections, or freeing up system resources before the object is deleted from memory. However, it’s generally used with caution because:\n",
        "      - Its timing isn't always predictable due to how garbage collection works.\n",
        "      - If it tries to access other objects that are already deleted, it may raise errors.\n",
        "\n",
        "      In modern Python, it's often safer to use context managers (with statements) for handling cleanup.\n",
        "22. What is the difference between @staticmethod and @classmethod in Python?\n",
        " - The difference lies in what each method has access to.\n",
        "      - static method does not access the instance (self) or the class (cls). It behaves like a plain function, just placed inside a class for logical grouping. It's used when the method doesn’t need to know anything about the class or instance.\n",
        "      - class method takes cls as its first argument, giving it access to class-level data. It can modify class state and is useful when the method needs to work with the class itself rather than any specific object.\n",
        "\n",
        "      In short:\n",
        "      \n",
        "      Static methods = self-contained tools.\n",
        "      \n",
        "      Class methods = tools that work with class-level data.\n",
        "23. How does polymorphism work in Python with inheritance?\n",
        " - In Python, polymorphism with inheritance means that a child class can provide its own version of a method that already exists in the parent class. This allows you to call the same method name on different objects, and each will respond differently depending on its class.\n",
        "\n",
        "      Because of inheritance, all subclasses inherit the parent’s methods, but polymorphism lets them override those methods to behave uniquely. When you call the method on a parent-class reference, Python figures out which version to use based on the actual object type at runtime. This makes your code more flexible and extendable.\n",
        "24. What is method chaining in Python OOP?\n",
        " - Method chaining in Python OOP is a technique where multiple method calls are linked together in a single line, using the dot . operator. It works when each method returns the object itself (self), allowing the next method to be called on that same object.\n",
        "\n",
        "      The purpose of method chaining is to make code more concise and expressive. Instead of writing multiple separate lines to call different methods on the same object, you can write them in a single, fluid statement.\n",
        "\n",
        "      This pattern is commonly used in frameworks, data processing libraries like Pandas, and builder-style classes where configuration or transformation steps are applied one after the other.\n",
        "25. What is the purpose of the __call__ method in Python?\n",
        "  - The __call__ method in Python allows an object to be called like a function. When you define __call__ inside a class, you can use its instances with parentheses, just like calling a regular function.\n",
        "\n",
        "      Its purpose is to make objects more flexible and intuitive. You can encapsulate behavior inside a class and then \"activate\" it by calling the object. This is especially useful in scenarios like creating decorators, callbacks, or dynamic computations—without needing a separate method name.\n"
      ],
      "metadata": {
        "id": "QKuAAhMcODrD"
      }
    },
    {
      "cell_type": "code",
      "source": [
        "# 1. Create a parent class Animal with a method speak() that prints a generic message. Create a child class Dog that overrides the speak() method to print \"Bark!\".\n",
        "\n",
        "class Animal:\n",
        "    def speak(self):\n",
        "        print(\"This animal makes a sound.\")\n",
        "\n",
        "class Dog(Animal):\n",
        "    def speak(self):\n",
        "        print(\"Bark!\")\n",
        "\n",
        "dog = Dog()\n",
        "dog.speak()"
      ],
      "metadata": {
        "colab": {
          "base_uri": "https://localhost:8080/"
        },
        "id": "x8yXaoSfWCiU",
        "outputId": "90a4fd1b-d261-457c-e7e2-6bd962a110ea"
      },
      "execution_count": 3,
      "outputs": [
        {
          "output_type": "stream",
          "name": "stdout",
          "text": [
            "Bark!\n"
          ]
        }
      ]
    },
    {
      "cell_type": "code",
      "source": [
        "#2. Write a program to create an abstract class Shape with a method area(). Derive classes Circle and Rectangle from it and implement the area() method in both.\n",
        "\n",
        "from abc import ABC, abstractmethod\n",
        "import math\n",
        "\n",
        "class Shape(ABC):\n",
        "    @abstractmethod\n",
        "    def area(self):\n",
        "        pass\n",
        "\n",
        "class Circle(Shape):\n",
        "    def __init__(self, radius):\n",
        "        self.radius = radius\n",
        "\n",
        "    def area(self):\n",
        "        return math.pi * self.radius ** 2\n",
        "\n",
        "class Rectangle(Shape):\n",
        "    def __init__(self, width, height):\n",
        "        self.width = width\n",
        "        self.height = height\n",
        "\n",
        "    def area(self):\n",
        "        return self.width * self.height\n",
        "\n",
        "circle = Circle(5)\n",
        "rectangle = Rectangle(4, 6)\n",
        "\n",
        "print(f\"Area of Circle: {circle.area():.2f}\")\n",
        "print(f\"Area of Rectangle: {rectangle.area():.2f}\")"
      ],
      "metadata": {
        "colab": {
          "base_uri": "https://localhost:8080/"
        },
        "id": "8rQEYyJsWO2C",
        "outputId": "03f5237c-970e-4a63-e63a-d9219bf05a74"
      },
      "execution_count": 6,
      "outputs": [
        {
          "output_type": "stream",
          "name": "stdout",
          "text": [
            "Area of Circle: 78.54\n",
            "Area of Rectangle: 24.00\n"
          ]
        }
      ]
    },
    {
      "cell_type": "code",
      "source": [
        "# 3.  Implement a multi-level inheritance scenario where a class Vehicle has an attribute type. Derive a class Car and further derive a class ElectricCar that adds a battery attribute.\n",
        "\n",
        "class Vehicle:\n",
        "    def __init__(self, vehicle_type):\n",
        "        self.vehicle_type = vehicle_type\n",
        "\n",
        "    def show_type(self):\n",
        "        print(f\"Vehicle type: {self.vehicle_type}\")\n",
        "\n",
        "class Car(Vehicle):\n",
        "    def __init__(self, vehicle_type, brand):\n",
        "        super().__init__(vehicle_type)\n",
        "        self.brand = brand\n",
        "\n",
        "    def show_brand(self):\n",
        "        print(f\"Car brand: {self.brand}\")\n",
        "\n",
        "class ElectricCar(Car):\n",
        "    def __init__(self, vehicle_type, brand, battery_capacity):\n",
        "        super().__init__(vehicle_type, brand)\n",
        "        self.battery_capacity = battery_capacity\n",
        "\n",
        "    def show_battery(self):\n",
        "        print(f\"Battery capacity: {self.battery_capacity} kWh\")\n",
        "\n",
        "ev = ElectricCar(\"Four-Wheeler\", \"Tesla\", 75)\n",
        "ev.show_type()\n",
        "ev.show_brand()\n",
        "ev.show_battery()"
      ],
      "metadata": {
        "colab": {
          "base_uri": "https://localhost:8080/"
        },
        "id": "h-MeqawHXBCT",
        "outputId": "ac5be094-822a-449b-c014-18289fb5d935"
      },
      "execution_count": 7,
      "outputs": [
        {
          "output_type": "stream",
          "name": "stdout",
          "text": [
            "Vehicle type: Four-Wheeler\n",
            "Car brand: Tesla\n",
            "Battery capacity: 75 kWh\n"
          ]
        }
      ]
    },
    {
      "cell_type": "code",
      "source": [
        "# 4. Demonstrate polymorphism by creating a base class Bird with a method fly(). Create two derived classes Sparrow and Penguin that override the fly() method.\n",
        "\n",
        "class Bird:\n",
        "    def fly(self):\n",
        "        print(\"This bird can fly\")\n",
        "\n",
        "class Sparrow(Bird):\n",
        "    def fly(self):\n",
        "        print(\"Sparrow flies swiftly through the sky!\")\n",
        "\n",
        "class Penguin(Bird):\n",
        "    def fly(self):\n",
        "        print(\"Penguins can't fly, but they're amazing swimmers!\")\n",
        "\n",
        "def bird_flight(bird):\n",
        "    bird.fly()\n",
        "\n",
        "birds = [Sparrow(), Penguin()]\n",
        "for bird in birds:\n",
        "    bird_flight(bird)"
      ],
      "metadata": {
        "colab": {
          "base_uri": "https://localhost:8080/"
        },
        "id": "9JFPjk8pXQH8",
        "outputId": "ce4d4d1f-8b93-4cf0-a7f2-7f5f54776f9f"
      },
      "execution_count": 8,
      "outputs": [
        {
          "output_type": "stream",
          "name": "stdout",
          "text": [
            "Sparrow flies swiftly through the sky!\n",
            "Penguins can't fly, but they're amazing swimmers!\n"
          ]
        }
      ]
    },
    {
      "cell_type": "code",
      "source": [
        "# 5. Write a program to demonstrate encapsulation by creating a class BankAccount with private attributes balance and methods to deposit, withdraw, and check balance.\n",
        "\n",
        "class BankAccount:\n",
        "    def __init__(self, initial_balance=0):\n",
        "        self.__balance = initial_balance\n",
        "\n",
        "    def deposit(self, amount):\n",
        "        if amount > 0:\n",
        "            self.__balance += amount\n",
        "            print(f\"Deposited: ₹{amount}\")\n",
        "        else:\n",
        "            print(\"Invalid deposit amount.\")\n",
        "\n",
        "    def withdraw(self, amount):\n",
        "        if 0 < amount <= self.__balance:\n",
        "            self.__balance -= amount\n",
        "            print(f\"Withdrawn: ₹{amount}\")\n",
        "        else:\n",
        "            print(\"Insufficient funds or invalid amount.\")\n",
        "\n",
        "    def check_balance(self):\n",
        "        print(f\"Current balance: ₹{self.__balance}\")\n",
        "\n",
        "account = BankAccount(500)\n",
        "account.check_balance()\n",
        "account.deposit(200)\n",
        "account.withdraw(100)\n",
        "account.check_balance()"
      ],
      "metadata": {
        "colab": {
          "base_uri": "https://localhost:8080/"
        },
        "id": "TXTOtc7CXeSo",
        "outputId": "6b710fda-c62c-45fb-b516-34186fe84639"
      },
      "execution_count": 10,
      "outputs": [
        {
          "output_type": "stream",
          "name": "stdout",
          "text": [
            "Current balance: ₹500\n",
            "Deposited: ₹200\n",
            "Withdrawn: ₹100\n",
            "Current balance: ₹600\n"
          ]
        }
      ]
    },
    {
      "cell_type": "code",
      "source": [
        "# 6. Demonstrate runtime polymorphism using a method play() in a base class Instrument. Derive classes Guitar and Piano that implement their own version of play()\n",
        "\n",
        "class Instrument:\n",
        "    def play(self):\n",
        "        print(\"Playing an instrument\")\n",
        "\n",
        "class Guitar(Instrument):\n",
        "    def play(self):\n",
        "        print(\"Strumming the guitar with vibrant chords\")\n",
        "\n",
        "class Piano(Instrument):\n",
        "    def play(self):\n",
        "        print(\"Playing the piano with melodic harmony\")\n",
        "\n",
        "def perform_music(instrument):\n",
        "    instrument.play()\n",
        "\n",
        "instruments = [Guitar(), Piano()]\n",
        "for inst in instruments:\n",
        "    perform_music(inst)\n"
      ],
      "metadata": {
        "colab": {
          "base_uri": "https://localhost:8080/"
        },
        "id": "OWYtQ4buXwSl",
        "outputId": "ff56dca4-445a-4bb9-92f4-be3bb7f7fc44"
      },
      "execution_count": 11,
      "outputs": [
        {
          "output_type": "stream",
          "name": "stdout",
          "text": [
            "Strumming the guitar with vibrant chords\n",
            "Playing the piano with melodic harmony\n"
          ]
        }
      ]
    },
    {
      "cell_type": "code",
      "source": [
        "# 7. Create a class MathOperations with a class method add_numbers() to add two numbers and a static method subtract_numbers() to subtract two numbers.\n",
        "\n",
        "class MathOperations:\n",
        "    @classmethod\n",
        "    def add_numbers(cls, a, b):\n",
        "        return a + b\n",
        "\n",
        "    @staticmethod\n",
        "    def subtract_numbers(a, b):\n",
        "        return a - b\n",
        "\n",
        "print(f\"Addition: {MathOperations.add_numbers(10, 5)}\")\n",
        "print(f\"Subtraction: {MathOperations.subtract_numbers(10, 5)}\")"
      ],
      "metadata": {
        "colab": {
          "base_uri": "https://localhost:8080/"
        },
        "id": "7oM--aR8X8Sq",
        "outputId": "3f2c2865-e3a1-4b8b-c6f2-bdb559d4889f"
      },
      "execution_count": 12,
      "outputs": [
        {
          "output_type": "stream",
          "name": "stdout",
          "text": [
            "Addition: 15\n",
            "Subtraction: 5\n"
          ]
        }
      ]
    },
    {
      "cell_type": "code",
      "source": [
        "# 8. Implement a class Person with a class method to count the total number of persons created.\n",
        "\n",
        "class Person:\n",
        "    count = 0\n",
        "\n",
        "    def __init__(self, name):\n",
        "        self.name = name\n",
        "        Person.count += 1\n",
        "\n",
        "    @classmethod\n",
        "    def total_persons(cls):\n",
        "        print(f\"Total number of persons created: {cls.count}\")\n",
        "\n",
        "p1 = Person(\"Subhadeep\")\n",
        "p2 = Person(\"Ananya\")\n",
        "p3 = Person(\"Ravi\")\n",
        "\n",
        "Person.total_persons()"
      ],
      "metadata": {
        "colab": {
          "base_uri": "https://localhost:8080/"
        },
        "id": "YeYCYBf5YOEe",
        "outputId": "fa9910d0-cada-4374-9271-317d662e5a61"
      },
      "execution_count": 14,
      "outputs": [
        {
          "output_type": "stream",
          "name": "stdout",
          "text": [
            "Total number of persons created: 3\n"
          ]
        }
      ]
    },
    {
      "cell_type": "code",
      "source": [
        "# 9. Write a class Fraction with attributes numerator and denominator. Override the str method to display the fraction as \"numerator/denominator\".\n",
        "\n",
        "class Fraction:\n",
        "    def __init__(self, numerator, denominator):\n",
        "        if denominator == 0:\n",
        "            raise ValueError(\"Denominator cannot be zero\")\n",
        "        self.numerator = numerator\n",
        "        self.denominator = denominator\n",
        "\n",
        "    def __str__(self):\n",
        "        return f\"{self.numerator}/{self.denominator}\"\n",
        "\n",
        "f1 = Fraction(3, 4)\n",
        "f2 = Fraction(7, 1)\n",
        "\n",
        "print(str(f1))\n",
        "print(str(f2))"
      ],
      "metadata": {
        "colab": {
          "base_uri": "https://localhost:8080/"
        },
        "id": "lOxj7OeAYaVW",
        "outputId": "02287cc0-97ba-41d2-de12-39bf52971292"
      },
      "execution_count": 15,
      "outputs": [
        {
          "output_type": "stream",
          "name": "stdout",
          "text": [
            "3/4\n",
            "7/1\n"
          ]
        }
      ]
    },
    {
      "cell_type": "code",
      "source": [
        "# 10. Demonstrate operator overloading by creating a class Vector and overriding the add method to add two vectors.\n",
        "\n",
        "class Vector:\n",
        "    def __init__(self, x, y):\n",
        "        self.x = x\n",
        "        self.y = y\n",
        "\n",
        "    def __add__(self, other):\n",
        "        if isinstance(other, Vector):\n",
        "            return Vector(self.x + other.x, self.y + other.y)\n",
        "        return NotImplemented\n",
        "\n",
        "    def __str__(self):\n",
        "        return f\"({self.x}, {self.y})\"\n",
        "\n",
        "v1 = Vector(2, 3)\n",
        "v2 = Vector(4, 5)\n",
        "v3 = v1 + v2\n",
        "\n",
        "print(f\"v1: {v1}\")\n",
        "print(f\"v2: {v2}\")\n",
        "print(f\"v1 + v2 = {v3}\")"
      ],
      "metadata": {
        "colab": {
          "base_uri": "https://localhost:8080/"
        },
        "id": "xm59JJIPYxoQ",
        "outputId": "1536bba7-08c5-400b-d701-7128eeeaee87"
      },
      "execution_count": 16,
      "outputs": [
        {
          "output_type": "stream",
          "name": "stdout",
          "text": [
            "v1: (2, 3)\n",
            "v2: (4, 5)\n",
            "v1 + v2 = (6, 8)\n"
          ]
        }
      ]
    },
    {
      "cell_type": "code",
      "source": [
        "# 11. Create a class Person with attributes name and age. Add a method greet() that prints \"Hello, my name is {name} and I am {age} years old.\"\n",
        "\n",
        "class Person:\n",
        "    def __init__(self, name, age):\n",
        "        self.name = name\n",
        "        self.age = age\n",
        "\n",
        "    def greet(self):\n",
        "        print(f\"Hello, my name is {self.name} and I am {self.age} years old.\")\n",
        "\n",
        "p1 = Person(\"Subhadeep\", 28)\n",
        "p1.greet()"
      ],
      "metadata": {
        "colab": {
          "base_uri": "https://localhost:8080/"
        },
        "id": "zWghP-mvZHBC",
        "outputId": "d69fd357-51c0-4921-edf5-83f7588fc8d7"
      },
      "execution_count": 17,
      "outputs": [
        {
          "output_type": "stream",
          "name": "stdout",
          "text": [
            "Hello, my name is Subhadeep and I am 28 years old.\n"
          ]
        }
      ]
    },
    {
      "cell_type": "code",
      "source": [
        "# 12. Implement a class Student with attributes name and grades. Create a method average_grade() to compute the average of the grades.\n",
        "\n",
        "class Student:\n",
        "    def __init__(self, name, grades):\n",
        "        self.name = name\n",
        "        self.grades = grades\n",
        "\n",
        "    def average_grade(self):\n",
        "        if not self.grades:\n",
        "            return 0\n",
        "        return sum(self.grades) / len(self.grades)\n",
        "\n",
        "    def __str__(self):\n",
        "        return f\"Student: {self.name}, Average Grade: {self.average_grade():.2f}\"\n",
        "\n",
        "s1 = Student(\"Subhadeep\", [85, 90, 78, 92])\n",
        "s2 = Student(\"Ayush\", [95, 88, 100])\n",
        "\n",
        "print(s1)\n",
        "print(s2)"
      ],
      "metadata": {
        "colab": {
          "base_uri": "https://localhost:8080/"
        },
        "id": "3mJ8KFfvZjhd",
        "outputId": "98c3f668-c8aa-486f-d473-0ab8be9649ed"
      },
      "execution_count": 19,
      "outputs": [
        {
          "output_type": "stream",
          "name": "stdout",
          "text": [
            "Student: Subhadeep, Average Grade: 86.25\n",
            "Student: Ayush, Average Grade: 94.33\n"
          ]
        }
      ]
    },
    {
      "cell_type": "code",
      "source": [
        "# 13. Create a class Rectangle with methods set_dimensions() to set the dimensions and area() to calculate the area.\n",
        "\n",
        "class Rectangle:\n",
        "    def __init__(self):\n",
        "        self.length = 0\n",
        "        self.width = 0\n",
        "\n",
        "    def set_dimensions(self, length, width):\n",
        "        if length <= 0 or width <= 0:\n",
        "            raise ValueError(\"Length and width must be positive numbers.\")\n",
        "        self.length = length\n",
        "        self.width = width\n",
        "\n",
        "    def area(self):\n",
        "        return self.length * self.width\n",
        "\n",
        "rect = Rectangle()\n",
        "rect.set_dimensions(10, 5)\n",
        "print(f\"Area of Rectangle: {rect.area()}\")"
      ],
      "metadata": {
        "colab": {
          "base_uri": "https://localhost:8080/"
        },
        "id": "ikuFgNmqaZU7",
        "outputId": "de3176f3-cdef-4f8e-e2ec-d67ea28139d4"
      },
      "execution_count": 20,
      "outputs": [
        {
          "output_type": "stream",
          "name": "stdout",
          "text": [
            "Area of Rectangle: 50\n"
          ]
        }
      ]
    },
    {
      "cell_type": "code",
      "source": [
        "# 14. Create a class Employee with a method calculate_salary() that computes the salary based on hours worked and hourly rate. Create a derived class Manager that adds a bonus to the salary.\n",
        "\n",
        "class Employee:\n",
        "    def __init__(self, name, hours_worked, hourly_rate):\n",
        "        self.name = name\n",
        "        self.hours_worked = hours_worked\n",
        "        self.hourly_rate = hourly_rate\n",
        "\n",
        "    def calculate_salary(self):\n",
        "        return self.hours_worked * self.hourly_rate\n",
        "\n",
        "class Manager(Employee):\n",
        "    def __init__(self, name, hours_worked, hourly_rate, bonus):\n",
        "        super().__init__(name, hours_worked, hourly_rate)\n",
        "        self.bonus = bonus\n",
        "\n",
        "    def calculate_salary(self):\n",
        "        base_salary = super().calculate_salary()\n",
        "        return base_salary + self.bonus\n",
        "\n",
        "emp = Employee(\"Subhadeep\", 40, 500)\n",
        "mgr = Manager(\"Ravi\", 40, 800, 5000)\n",
        "\n",
        "print(f\"{emp.name}'s Salary: ₹{emp.calculate_salary()}\")\n",
        "print(f\"{mgr.name}'s Salary with Bonus: ₹{mgr.calculate_salary()}\")"
      ],
      "metadata": {
        "colab": {
          "base_uri": "https://localhost:8080/"
        },
        "id": "1iyCxIsoarpH",
        "outputId": "463042f9-4d09-4c53-b718-9c4199c45f1a"
      },
      "execution_count": 21,
      "outputs": [
        {
          "output_type": "stream",
          "name": "stdout",
          "text": [
            "Subhadeep's Salary: ₹20000\n",
            "Ravi's Salary with Bonus: ₹37000\n"
          ]
        }
      ]
    },
    {
      "cell_type": "code",
      "source": [
        "#15. Create a class Product with attributes name, price, and quantity. Implement a method total_price() that calculates the total price of the product\n",
        "\n",
        "class Product:\n",
        "    def __init__(self, name, price, quantity):\n",
        "        self.name = name\n",
        "        self.price = price\n",
        "        self.quantity = quantity\n",
        "\n",
        "    def total_price(self):\n",
        "        return self.price * self.quantity\n",
        "\n",
        "    def __str__(self):\n",
        "        return f\"{self.name}: ₹{self.price} × {self.quantity} = ₹{self.total_price()}\"\n",
        "\n",
        "p1 = Product(\"Keyboard\", 1200, 3)\n",
        "p2 = Product(\"Monitor\", 9500, 2)\n",
        "\n",
        "print(p1)\n",
        "print(p2)"
      ],
      "metadata": {
        "colab": {
          "base_uri": "https://localhost:8080/"
        },
        "id": "d8Xddzg5a499",
        "outputId": "e664ba4a-95dd-46a3-b773-0ac94b6043bc"
      },
      "execution_count": 22,
      "outputs": [
        {
          "output_type": "stream",
          "name": "stdout",
          "text": [
            "Keyboard: ₹1200 × 3 = ₹3600\n",
            "Monitor: ₹9500 × 2 = ₹19000\n"
          ]
        }
      ]
    },
    {
      "cell_type": "code",
      "source": [
        "# 16. Create a class Animal with an abstract method sound(). Create two derived classes Cow and Sheep that implement the sound() method.\n",
        "\n",
        "from abc import ABC, abstractmethod\n",
        "\n",
        "class Animal(ABC):\n",
        "    @abstractmethod\n",
        "    def sound(self):\n",
        "        pass\n",
        "\n",
        "class Cow(Animal):\n",
        "    def sound(self):\n",
        "        return \"Moo\"\n",
        "\n",
        "class Sheep(Animal):\n",
        "    def sound(self):\n",
        "        return \"Baa\"\n",
        "\n",
        "animals = [Cow(), Sheep()]\n",
        "for animal in animals:\n",
        "    print(f\"{animal.__class__.__name__} says: {animal.sound()}\")"
      ],
      "metadata": {
        "colab": {
          "base_uri": "https://localhost:8080/"
        },
        "id": "0kufwkSObES1",
        "outputId": "fe121091-a9d2-47b4-b20b-9eb3ad47a95c"
      },
      "execution_count": 23,
      "outputs": [
        {
          "output_type": "stream",
          "name": "stdout",
          "text": [
            "Cow says: Moo\n",
            "Sheep says: Baa\n"
          ]
        }
      ]
    },
    {
      "cell_type": "code",
      "source": [
        "# 17. Create a class Book with attributes title, author, and year_published. Add a method get_book_info() that returns a formatted string with the book's details.\n",
        "\n",
        "class Book:\n",
        "    def __init__(self, title, author, year_published):\n",
        "        self.title = title\n",
        "        self.author = author\n",
        "        self.year_published = year_published\n",
        "\n",
        "    def get_book_info(self):\n",
        "        return f\"📚 '{self.title}' by {self.author} (Published: {self.year_published})\"\n",
        "\n",
        "book1 = Book(\"To Kill a Mockingbird\", \"Harper Lee\", 1960)\n",
        "book2 = Book(\"1984\", \"George Orwell\", 1949)\n",
        "\n",
        "print(book1.get_book_info())\n",
        "print(book2.get_book_info())"
      ],
      "metadata": {
        "colab": {
          "base_uri": "https://localhost:8080/"
        },
        "id": "rLjtOn5tbR6C",
        "outputId": "c5930b4b-728f-45a3-d103-da63271b00e9"
      },
      "execution_count": 24,
      "outputs": [
        {
          "output_type": "stream",
          "name": "stdout",
          "text": [
            "📚 'To Kill a Mockingbird' by Harper Lee (Published: 1960)\n",
            "📚 '1984' by George Orwell (Published: 1949)\n"
          ]
        }
      ]
    },
    {
      "cell_type": "code",
      "source": [
        "# 18. Create a class House with attributes address and price. Create a derived class Mansion that adds an attribute number_of_rooms.\n",
        "\n",
        "class House:\n",
        "    def __init__(self, address, price):\n",
        "        self.address = address\n",
        "        self.price = price\n",
        "\n",
        "    def get_info(self):\n",
        "        return f\"🏠 House located at {self.address} is priced at ₹{self.price}\"\n",
        "\n",
        "class Mansion(House):\n",
        "    def __init__(self, address, price, number_of_rooms):\n",
        "        super().__init__(address, price)\n",
        "        self.number_of_rooms = number_of_rooms\n",
        "\n",
        "    def get_info(self):\n",
        "        base_info = super().get_info()\n",
        "        return f\"{base_info} with {self.number_of_rooms} luxurious rooms.\"\n",
        "\n",
        "h1 = House(\"32B Park Street, Kolkata\", 7500000)\n",
        "m1 = Mansion(\"1 Elite Road, Rajarhat\", 50000000, 12)\n",
        "\n",
        "print(h1.get_info())\n",
        "print(m1.get_info())\n"
      ],
      "metadata": {
        "colab": {
          "base_uri": "https://localhost:8080/"
        },
        "id": "hpN-9BMHbfRZ",
        "outputId": "a5f7c511-d259-4a11-b9f6-78b1ac0956fa"
      },
      "execution_count": 26,
      "outputs": [
        {
          "output_type": "stream",
          "name": "stdout",
          "text": [
            "🏠 House located at 32B Park Street, Kolkata is priced at ₹7500000\n",
            "🏠 House located at 1 Elite Road, Rajarhat is priced at ₹50000000 with 12 luxurious rooms.\n"
          ]
        }
      ]
    }
  ]
}