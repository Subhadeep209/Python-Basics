{
  "nbformat": 4,
  "nbformat_minor": 0,
  "metadata": {
    "colab": {
      "provenance": []
    },
    "kernelspec": {
      "name": "python3",
      "display_name": "Python 3"
    },
    "language_info": {
      "name": "python"
    }
  },
  "cells": [
    {
      "cell_type": "markdown",
      "source": [
        "# Data Structure"
      ],
      "metadata": {
        "id": "3972nPNJvR9e"
      }
    },
    {
      "cell_type": "markdown",
      "source": [
        "1. What are data structures, and why are they important?\n",
        "      - Data structures are ways to organize and store data so it can be accessed and modified efficiently. They are essential for writing clean, optimized, and maintainable code.\n",
        "  - Why it is important?\n",
        "      - Improve performance (e.g., fast lookups, sorting, etc.)\n",
        "      - Help choose the right tool for a specific task (e.g., list for order, set for uniqueness)\n",
        "      - Essential in algorithms and real-world applications like databases, web services, etc.\n",
        "\n",
        "2. Explain the difference between mutable and immutable data types with examples?\n",
        "    - Mutable: Can be changed after creation.\n",
        "    - Immutable: Cannot be changed once created.\n",
        "3. What are the main differences between lists and tuples in Python?\n",
        "  - Mutability:\n",
        "    - Lists are mutable – you can modify, add, or remove items.\n",
        "    - Tuples are immutable – once created, their elements can’t be changed.\n",
        "- Syntax:\n",
        "  - Lists use square brackets → my_list = [1, 2, 3]\n",
        "  - Tuples use parentheses → my_tuple = (1, 2, 3)\n",
        "- Performance:\n",
        "  - Tuples are generally faster than lists, thanks to their immutability.\n",
        "- Built-in Methods:\n",
        "  - Lists offer more methods like .append(), .remove(), .sort()\n",
        "  - Tuples only support a few, like .count() and .index()\n",
        "- Use Cases:\n",
        "  - Use lists when your data might change.\n",
        "  - Use tuples for fixed data like coordinates or configuration.\n",
        "- Nesting & Iteration:\n",
        "  - Both support nesting and iteration, but tuple data is protected from accidental edits.\n",
        "\n",
        "\n",
        "4. Describe how dictionaries store data.\n",
        "  - A dictionary in Python stores data using key-value pairs. Internally, it uses a hash table, meaning each key is hashed to quickly locate its value in memory. This makes lookups very fast. Dictionaries are mutable, so you can modify them freely, and starting with Python 3.7, they maintain the order in which items are added.\n",
        "\n",
        "5. Why might you use a set instead of a list in Python?\n",
        "  - Sets automatically remove duplicates\n",
        "  - Faster membership tests (x in set) compared to lists\n",
        "  - Used when order is not important and unique values are needed\n",
        "\n",
        "6. What is a string in Python, and how is it different from a list?\n",
        "  - A string in Python is a sequence of characters enclosed in quotes—single ('), double (\") or triple (''' / \"\"\"). It’s typically used to represent text, like names, messages, or any kind of readable content:\n",
        "\n",
        "  - how is it different from a list?\n",
        "      - A string stores only characters, while a list can store any type of data—numbers, strings, even other lists.\n",
        "      - Strings are immutable — we can’t change their characters directly. Lists are mutable, so we can update, add, or remove items.\n",
        "      - we can loop through both, but string methods focus on text processing (.upper(), .split()) while lists have methods for managing collections (.append(), .remove()).\n",
        "\n",
        "7. How do tuples ensure data integrity in Python?\n",
        "  - Tuples are immutable, so their values cannot be changed accidentally. This ensures that data remains constant and secure, making them good for fixed data like coordinates.\n",
        "\n",
        "8. What is a hash table, and how does it relate to dictionaries in Python?\n",
        "  - A hash table is a data structure that stores data using hash keys. Python dictionaries use hash tables to store and access key-value pairs in average 0(1) time.\n",
        "9. Can lists contain different data types in Python?\n",
        "  - Yes, Python lists can store different data types all together: numbers, strings, booleans, even other lists or dictionaries. This flexibility is part of what makes them so versatile, especially for rapid development or working with mixed data.\n",
        "10. Explain why strings are immutable in Python.\n",
        "  - Strings are immutable in Python for a few smart reasons:\n",
        "      - Efficiency: Since strings are used a lot in programming, keeping them immutable allows Python to optimize memory usage behind the scenes. Python can safely reuse the same string object instead of making new copies every time.\n",
        "      - Hashing and Dictionary Keys: Strings being immutable means their hash value doesn’t change, which is crucial if you're using them as dictionary keys. Mutable keys would break the logic of hash-based data structures.\n",
        "      - Thread Safety: Immutability makes strings naturally thread-safe. Multiple parts of your code—or different threads—can use the same string without fear of it changing unexpectedly.\n",
        "      - Design Philosophy: It simplifies things. When you know a value won’t change, it’s easier to reason about what your program is doing.\n",
        "\n",
        "11. What advantages do dictionaries offer over lists for certain tasks?\n",
        "  - Dictionaries offer several powerful advantages over lists, especially when it comes to how you organize and retrieve data:\n",
        "      - Faster lookups: With dictionaries, you can access values directly via keys—no need to search through an entire list. This gives dictionaries near-instant (O(1)) access time.\n",
        "      - Better structure for related data: If your data is naturally organized in pairs (like name–email, product–price), a dictionary keeps things much clearer and more readable than using parallel lists.\n",
        "      - Custom keys: Instead of relying on numerical indexes like lists, dictionaries let you label your data with meaningful keys—like \"user_id\" or \"location\". This improves code clarity and reduces errors.\n",
        "      - Flexible and dynamic: You can easily add, remove, or update key-value pairs without worrying about position or shifting other elements, as you would in a list.\n",
        "\n",
        "12. Describe a scenario where using a tuple would be preferable over a list.\n",
        "  - A tuple is the better choice when you want to create a fixed, unchangeable collection of values—especially when the integrity of that data matters.\n",
        "  - Example scenario: Suppose you’re storing geographic coordinates, like latitude and longitude for a network cabinet or customer location. Those values shouldn’t be accidentally modified.\n",
        "      - In that case, something like (22.5726, 88.3639) is perfect as a tuple. It’s lightweight, safe from edits, and signals that the data is meant to stay constant.\n",
        "  - Tuples can be used as dictionary keys, lists cannot—so they’re ideal when you need compound keys in mapping structures.\n",
        "\n",
        "13. How do sets handle duplicate values in Python?\n",
        "  - Sets in Python automatically remove duplicates—they only store unique elements. When you create a set or add items to it, Python checks for duplicates behind the scenes and ensures that each value appears only once. This is built into the nature of sets, similar to how mathematical sets work. So, if you try to add the same item multiple times, only one instance will be kept. Simple, clean, and efficient.\n",
        "\n",
        "14. How does the “in” keyword work differently for lists and dictionaries?\n",
        "  - Python’s in keyword wears different hats depending on the data type.\n",
        "      - For lists, in checks whether a value exists in the list.\n",
        "Example idea: asking, \"Is 3 in [1, 2, 3]?\" → Python scans the list until it finds it (or not). This is a linear search, so it's O(n) in performance.\n",
        "      - For dictionaries, in checks whether a key exists—not a value.\n",
        "So \"name\" in my_dict is valid, but \"Subhadeep\" in my_dict\" returns False unless \"Subhadeep\" is one of the keys.\n",
        "\n",
        "15. Can you modify the elements of a tuple? Explain why or why not.\n",
        "  - No. we can’t modify the elements of a tuple in Python. That’s because tuples are immutable, meaning once they’re created, their contents are locked in place.\n",
        "If we try to change a value inside a tuple, Python will raise a TypeError. This design choice helps with performance and lets tuples be used as keys in dictionaries or stored in sets—something mutable types like lists can’t do.\n",
        "\n",
        "\n",
        "16. What is a nested dictionary, and give an example of its use case?\n",
        "  - A nested dictionary is a dictionary where one or more values are themselves dictionaries. This allows you to organize complex, hierarchical data in a structured format.\n",
        "      - Use Case Example: Student Management System, Imagine you're building a school application that tracks student data:\n",
        "          - Each student has a unique ID\n",
        "          - Each student has details like name, age, grade\n",
        "\n",
        "Using a nested dictionary lets you organize this cleanly and retrieve any detail easily.\n",
        "\n",
        "17. Describe the time complexity of accessing elements in a dictionary.\n",
        "  - Accessing elements in a Python dictionary is typically done in constant time, or O(1). That’s because dictionaries use a hash table under the hood.\n",
        "When you use a key like my_dict[\"username\"], Python quickly calculates the hash of \"username\" and uses it to jump straight to the location in memory—no need to loop through elements.\n",
        "However, in rare edge cases—like when many keys hash to the same value (a hash collision)—lookup time can degrade to O(n), though Python has smart collision resolution strategies to keep things efficient.\n",
        "So in real-world usage: O(1) average time, O(n) worst-case, but that worst case is quite rare.\n",
        "\n",
        "18. In what situations are lists preferred over dictionaries?\n",
        "  - Lists shine over dictionaries when:\n",
        "      - Order matters: Lists keep items in sequence, which is great for tasks, steps, or anything chronological.\n",
        "      - You’re working with simple collections: If your data doesn't need labels—like just a group of numbers or names—a list is simpler and cleaner.\n",
        "      - You need indexing or slicing: Lists let you access items by position and perform slicing easily (my_list[1:4]), which dictionaries don’t support in the same way.\n",
        "      - Memory efficiency for small data: Lists can be more compact if you're just storing items without needing key-value mapping.\n",
        "      - Iteration without keys: When you just want to loop through values and order is important, lists are more intuitive.\n",
        "\n",
        "19. Why are dictionaries considered unordered, and how does that affect data retrieval?\n",
        "  - Originally, Python dictionaries were considered unordered because the language didn't guarantee the order of items you added—they were stored based on their hash values, which could seem random.\n",
        "That changed starting with Python 3.7, where dictionaries began to preserve insertion order. That means items now stay in the order you add them—but this behavior is more of an implementation detail than a structural necessity.\n",
        "So why still mention “unordered”?\n",
        "It’s a reminder that dictionaries are optimized for quick key-based access, not for sequential data handling. You don’t access items by position (like index 0, 1, 2); instead, you go straight to a value using its key. That’s what sets them apart from lists.\n",
        "The effect? If your logic depends on the exact order of items, you might still prefer lists or use tools like OrderedDict (in older Python versions). But for fast retrieval by label, dictionaries are hard to beat.\n",
        "\n",
        "\n",
        "20. Explain the difference between a list and a dictionary in terms of data retrieval.\n",
        "  - Here’s the key difference in how lists and dictionaries retrieve data:\n",
        "      - Lists retrieve items using a numerical index. You access elements based on their position, like my_list[0] to get the first item. It’s ideal when order matters or when you loop through items in sequence.\n",
        "      - Dictionaries, on the other hand, retrieve values using a unique key. Instead of positions, you access data with meaningful labels, like my_dict[\"username\"]. This makes lookups much faster and more readable when working with structured, labeled data.\n",
        "  - So, while lists are perfect for ordered sequences, dictionaries shine when you need quick access to values based on identifiers.\n"
      ],
      "metadata": {
        "id": "6-Hom-XRvXrX"
      }
    },
    {
      "cell_type": "code",
      "source": [
        "# 1. Write a code to create a string with your name and print it.\n",
        "name = \"Subhadeep\"\n",
        "print(name)"
      ],
      "metadata": {
        "colab": {
          "base_uri": "https://localhost:8080/"
        },
        "id": "21MBxwPJ9Da8",
        "outputId": "6aed0f62-6810-408f-e7a6-a3d54d74fde7"
      },
      "execution_count": 2,
      "outputs": [
        {
          "output_type": "stream",
          "name": "stdout",
          "text": [
            "Subhadeep\n"
          ]
        }
      ]
    },
    {
      "cell_type": "code",
      "source": [
        "# 2. Write a code to find the length of the string \"Hello World\".\n",
        "string = \"Hello World\"\n",
        "print(len(string))"
      ],
      "metadata": {
        "colab": {
          "base_uri": "https://localhost:8080/"
        },
        "id": "iwFoCXPg9aI3",
        "outputId": "c0aefbda-1ebd-499c-d318-64c5d930efcf"
      },
      "execution_count": 3,
      "outputs": [
        {
          "output_type": "stream",
          "name": "stdout",
          "text": [
            "11\n"
          ]
        }
      ]
    },
    {
      "cell_type": "code",
      "source": [
        "# 3.  Write a code to slice the first 3 characters from the string \"Python Programming\".\n",
        "text = \"Python Programming\"\n",
        "sliced = text[:3]\n",
        "print(sliced)"
      ],
      "metadata": {
        "colab": {
          "base_uri": "https://localhost:8080/"
        },
        "id": "kA-bcOzt9hx1",
        "outputId": "61659b38-f8db-4425-bbca-43a62ee95e2f"
      },
      "execution_count": 4,
      "outputs": [
        {
          "output_type": "stream",
          "name": "stdout",
          "text": [
            "Pyt\n"
          ]
        }
      ]
    },
    {
      "cell_type": "code",
      "source": [
        "# 4. Write a code to convert the string \"hello\" to uppercase.\n",
        "text = \"hello\"\n",
        "uppercase_text = text.upper()\n",
        "print(uppercase_text)"
      ],
      "metadata": {
        "colab": {
          "base_uri": "https://localhost:8080/"
        },
        "id": "wGeJET3y9xWV",
        "outputId": "5e5b740b-ea21-492d-f9ce-ca0c33d9bb44"
      },
      "execution_count": 5,
      "outputs": [
        {
          "output_type": "stream",
          "name": "stdout",
          "text": [
            "HELLO\n"
          ]
        }
      ]
    },
    {
      "cell_type": "code",
      "source": [
        "# 5. Write a code to replace the word \"apple\" with \"orange\" in the string \"I like apple\".\n",
        "text = \"I like apple\"\n",
        "new_text = text.replace(\"apple\", \"orange\")\n",
        "print(new_text)"
      ],
      "metadata": {
        "colab": {
          "base_uri": "https://localhost:8080/"
        },
        "id": "KHA-utHn97qE",
        "outputId": "b7f960d4-64ba-4819-b147-6839dce0a62b"
      },
      "execution_count": 6,
      "outputs": [
        {
          "output_type": "stream",
          "name": "stdout",
          "text": [
            "I like orange\n"
          ]
        }
      ]
    },
    {
      "cell_type": "code",
      "source": [
        "# 6. Write a code to create a list with numbers 1 to 5 and print it.\n",
        "numbers = [1, 2, 3, 4, 5]\n",
        "print(numbers)"
      ],
      "metadata": {
        "colab": {
          "base_uri": "https://localhost:8080/"
        },
        "id": "5Sr-g1nc-IXe",
        "outputId": "954faf41-0e76-48e2-daf0-21c17bca2218"
      },
      "execution_count": 8,
      "outputs": [
        {
          "output_type": "stream",
          "name": "stdout",
          "text": [
            "[1, 2, 3, 4, 5]\n"
          ]
        }
      ]
    },
    {
      "cell_type": "code",
      "source": [
        "# 7. Write a code to append the number 10 to the list [1, 2, 3, 4].\n",
        "numbers = [1, 2, 3, 4]\n",
        "numbers.append(10)\n",
        "print(numbers)"
      ],
      "metadata": {
        "colab": {
          "base_uri": "https://localhost:8080/"
        },
        "id": "xgZ62GLp-X9v",
        "outputId": "c9ffec5a-bf7d-4e4a-cfc2-3b236b7925c4"
      },
      "execution_count": 9,
      "outputs": [
        {
          "output_type": "stream",
          "name": "stdout",
          "text": [
            "[1, 2, 3, 4, 10]\n"
          ]
        }
      ]
    },
    {
      "cell_type": "code",
      "source": [
        "# 8. Write a code to remove the number 3 from the list [1, 2, 3, 4, 5].\n",
        "numbers = [1, 2, 3, 4, 5]\n",
        "numbers.remove(3)\n",
        "print(numbers)"
      ],
      "metadata": {
        "colab": {
          "base_uri": "https://localhost:8080/"
        },
        "id": "omM0OYAy-f13",
        "outputId": "a8a388f6-8d2b-4450-e7bd-f0ee93f21ffb"
      },
      "execution_count": 10,
      "outputs": [
        {
          "output_type": "stream",
          "name": "stdout",
          "text": [
            "[1, 2, 4, 5]\n"
          ]
        }
      ]
    },
    {
      "cell_type": "code",
      "source": [
        "# 9. Write a code to access the second element in the list ['a', 'b', 'c', 'd'].\n",
        "letters = ['a', 'b', 'c', 'd']\n",
        "second = letters[1]\n",
        "print(second)"
      ],
      "metadata": {
        "colab": {
          "base_uri": "https://localhost:8080/"
        },
        "id": "vq5VMFpV-pCM",
        "outputId": "b330dd0b-06a8-4184-cf9a-868464e543e2"
      },
      "execution_count": 11,
      "outputs": [
        {
          "output_type": "stream",
          "name": "stdout",
          "text": [
            "b\n"
          ]
        }
      ]
    },
    {
      "cell_type": "code",
      "source": [
        "# 10. Write a code to reverse the list [10, 20, 30, 40, 50].\n",
        "numbers = [10, 20, 30, 40, 50]\n",
        "numbers.reverse()\n",
        "print(numbers)"
      ],
      "metadata": {
        "colab": {
          "base_uri": "https://localhost:8080/"
        },
        "id": "tSnlMxd3-0Ex",
        "outputId": "372050be-75cd-4a88-9328-54d3d5684894"
      },
      "execution_count": 12,
      "outputs": [
        {
          "output_type": "stream",
          "name": "stdout",
          "text": [
            "[50, 40, 30, 20, 10]\n"
          ]
        }
      ]
    },
    {
      "cell_type": "code",
      "source": [
        "# 11. Write a code to create a tuple with the elements 100, 200, 300 and print it.\n",
        "my_tuple = (100, 200, 300)\n",
        "print(my_tuple)"
      ],
      "metadata": {
        "colab": {
          "base_uri": "https://localhost:8080/"
        },
        "id": "_05WrgkS-74t",
        "outputId": "c05041ed-7226-41fc-8baa-a2ba724ef660"
      },
      "execution_count": 13,
      "outputs": [
        {
          "output_type": "stream",
          "name": "stdout",
          "text": [
            "(100, 200, 300)\n"
          ]
        }
      ]
    },
    {
      "cell_type": "code",
      "source": [
        "# 12. Write a code to access the second-to-last element of the tuple ('red', 'green', 'blue', 'yellow').\n",
        "colors = ('red', 'green', 'blue', 'yellow')\n",
        "second_last = colors[-2]\n",
        "print(second_last)"
      ],
      "metadata": {
        "colab": {
          "base_uri": "https://localhost:8080/"
        },
        "id": "W-6m1wNL_HzA",
        "outputId": "633a508c-b398-46c1-e0e8-902f0d33816a"
      },
      "execution_count": 14,
      "outputs": [
        {
          "output_type": "stream",
          "name": "stdout",
          "text": [
            "blue\n"
          ]
        }
      ]
    },
    {
      "cell_type": "code",
      "source": [
        "# 13. Write a code to find the minimum number in the tuple (10, 20, 5, 15).\n",
        "numbers = (10, 20, 5, 15)\n",
        "minimum = min(numbers)\n",
        "print(minimum)"
      ],
      "metadata": {
        "colab": {
          "base_uri": "https://localhost:8080/"
        },
        "id": "F6DVJvaG_PE1",
        "outputId": "d4a4a8ba-e034-4456-acea-16143bee09a2"
      },
      "execution_count": 15,
      "outputs": [
        {
          "output_type": "stream",
          "name": "stdout",
          "text": [
            "5\n"
          ]
        }
      ]
    },
    {
      "cell_type": "code",
      "source": [
        "# 14. Write a code to find the index of the element \"cat\" in the tuple ('dog', 'cat', 'rabbit').\n",
        "animals = ('dog', 'cat', 'rabbit')\n",
        "index_of_cat = animals.index('cat')\n",
        "print(\"Index of 'cat':\", index_of_cat)"
      ],
      "metadata": {
        "colab": {
          "base_uri": "https://localhost:8080/"
        },
        "id": "iBiJVqbP_XXv",
        "outputId": "81a278a0-6559-4d91-e343-68330a724c05"
      },
      "execution_count": 19,
      "outputs": [
        {
          "output_type": "stream",
          "name": "stdout",
          "text": [
            "Index of 'cat': 1\n"
          ]
        }
      ]
    },
    {
      "cell_type": "code",
      "source": [
        "# 15. Write a code to create a tuple containing three different fruits and check if \"kiwi\" is in it.\n",
        "fruits = (\"apple\", \"banana\", \"mango\")\n",
        "is_kiwi_present = \"kiwi\" in fruits\n",
        "print(\"Is kiwi in the tuple?\", is_kiwi_present)"
      ],
      "metadata": {
        "colab": {
          "base_uri": "https://localhost:8080/"
        },
        "id": "5vVYlhZg_u5o",
        "outputId": "56547dc7-f93a-4ef5-93e8-d7be6319197a"
      },
      "execution_count": 23,
      "outputs": [
        {
          "output_type": "stream",
          "name": "stdout",
          "text": [
            "Is kiwi in the tuple? False\n"
          ]
        }
      ]
    },
    {
      "cell_type": "code",
      "source": [
        "# 16. Write a code to create a set with the elements 'a', 'b', 'c' and print it.\n",
        "my_set = {'a', 'b', 'c'}\n",
        "print(my_set)"
      ],
      "metadata": {
        "colab": {
          "base_uri": "https://localhost:8080/"
        },
        "id": "wm7GRWCOAeoO",
        "outputId": "1a2d59e0-4da4-4812-fda0-bb18fb27f322"
      },
      "execution_count": 24,
      "outputs": [
        {
          "output_type": "stream",
          "name": "stdout",
          "text": [
            "{'a', 'c', 'b'}\n"
          ]
        }
      ]
    },
    {
      "cell_type": "code",
      "source": [
        "# 17. Write a code to clear all elements from the set {1, 2, 3, 4, 5}.\n",
        "my_set = {1, 2, 3, 4, 5}\n",
        "my_set.clear()\n",
        "print(my_set)"
      ],
      "metadata": {
        "colab": {
          "base_uri": "https://localhost:8080/"
        },
        "id": "GT8iCvz8AonA",
        "outputId": "35955ba3-722b-4cea-b568-7f129ce005f0"
      },
      "execution_count": 25,
      "outputs": [
        {
          "output_type": "stream",
          "name": "stdout",
          "text": [
            "set()\n"
          ]
        }
      ]
    },
    {
      "cell_type": "code",
      "source": [
        "# 18. Write a code to remove the element 4 from the set {1, 2, 3, 4}.\n",
        "my_set = {1, 2, 3, 4}\n",
        "my_set.remove(4)\n",
        "print(my_set)"
      ],
      "metadata": {
        "colab": {
          "base_uri": "https://localhost:8080/"
        },
        "id": "zhQuMYD4A0HU",
        "outputId": "69a9ecf1-82ad-4c5a-c8da-540da4c7cd03"
      },
      "execution_count": 26,
      "outputs": [
        {
          "output_type": "stream",
          "name": "stdout",
          "text": [
            "{1, 2, 3}\n"
          ]
        }
      ]
    },
    {
      "cell_type": "code",
      "source": [
        "# 19. Write a code to find the union of two sets {1, 2, 3} and {3, 4, 5}.\n",
        "set1 = {1, 2, 3}\n",
        "set2 = {3, 4, 5}\n",
        "union_set = set1.union(set2)\n",
        "print(union_set)"
      ],
      "metadata": {
        "colab": {
          "base_uri": "https://localhost:8080/"
        },
        "id": "i9YjX6JUA665",
        "outputId": "7a2b139e-47f1-4170-8604-c014add628b1"
      },
      "execution_count": 27,
      "outputs": [
        {
          "output_type": "stream",
          "name": "stdout",
          "text": [
            "{1, 2, 3, 4, 5}\n"
          ]
        }
      ]
    },
    {
      "cell_type": "code",
      "source": [
        "# 20. Write a code to find the intersection of two sets {1, 2, 3} and {2, 3, 4}.\n",
        "set1 = {1, 2, 3}\n",
        "set2 = {2, 3, 4}\n",
        "intersection_set = set1.intersection(set2)\n",
        "print(intersection_set)"
      ],
      "metadata": {
        "colab": {
          "base_uri": "https://localhost:8080/"
        },
        "id": "v00LWUqXBDzS",
        "outputId": "774a2f1b-1e76-446a-c064-b0d94a815ab7"
      },
      "execution_count": 28,
      "outputs": [
        {
          "output_type": "stream",
          "name": "stdout",
          "text": [
            "{2, 3}\n"
          ]
        }
      ]
    },
    {
      "cell_type": "code",
      "source": [
        "# 21. Write a code to create a dictionary with the keys \"name\", \"age\", and \"city\", and print it.\n",
        "person = {\n",
        "    \"name\": \"Souvik\",\n",
        "    \"age\": 24,\n",
        "    \"city\": \"kolkata\"\n",
        "}\n",
        "\n",
        "print(person)"
      ],
      "metadata": {
        "colab": {
          "base_uri": "https://localhost:8080/"
        },
        "id": "VBe04LJEBL_e",
        "outputId": "54aa2566-ca4d-4478-db13-53ec1e275265"
      },
      "execution_count": 30,
      "outputs": [
        {
          "output_type": "stream",
          "name": "stdout",
          "text": [
            "{'name': 'Souvik', 'age': 24, 'city': 'kolkata'}\n"
          ]
        }
      ]
    },
    {
      "cell_type": "code",
      "source": [
        "# 22.  Write a code to add a new key-value pair \"country\": \"USA\" to the dictionary {'name': 'John', 'age': 25}.\n",
        "person = {'name': 'John', 'age': 25}\n",
        "person['country'] = 'USA'\n",
        "print(person)"
      ],
      "metadata": {
        "colab": {
          "base_uri": "https://localhost:8080/"
        },
        "id": "TQ0dSTyzBc9U",
        "outputId": "57bcb7cb-918f-49df-977c-6f462216698a"
      },
      "execution_count": 31,
      "outputs": [
        {
          "output_type": "stream",
          "name": "stdout",
          "text": [
            "{'name': 'John', 'age': 25, 'country': 'USA'}\n"
          ]
        }
      ]
    },
    {
      "cell_type": "code",
      "source": [
        "# 23. Write a code to access the value associated with the key \"name\" in the dictionary {'name': 'Alice', 'age': 30}.\n",
        "person = {'name': 'Alice', 'age': 30}\n",
        "name_value = person['name']\n",
        "print(name_value)"
      ],
      "metadata": {
        "colab": {
          "base_uri": "https://localhost:8080/"
        },
        "id": "l60SZFRiBtBj",
        "outputId": "26f44386-f6b6-431b-e657-8d0a937ef272"
      },
      "execution_count": 32,
      "outputs": [
        {
          "output_type": "stream",
          "name": "stdout",
          "text": [
            "Alice\n"
          ]
        }
      ]
    },
    {
      "cell_type": "code",
      "source": [
        "# 24.  Write a code to remove the key \"age\" from the dictionary {'name': 'Bob', 'age': 22, 'city': 'New York'}.\n",
        "person = {'name': 'Bob', 'age': 22, 'city': 'New York'}\n",
        "del person['age']\n",
        "print(person)"
      ],
      "metadata": {
        "colab": {
          "base_uri": "https://localhost:8080/"
        },
        "id": "eJHU51SOCAcc",
        "outputId": "a3de9dc5-5b12-4e52-db67-0c278606f848"
      },
      "execution_count": 34,
      "outputs": [
        {
          "output_type": "stream",
          "name": "stdout",
          "text": [
            "{'name': 'Bob', 'city': 'New York'}\n"
          ]
        }
      ]
    },
    {
      "cell_type": "code",
      "source": [
        "# 25. Write a code to check if the key \"city\" exists in the dictionary {'name': 'Alice', 'city': 'Paris'}.\n",
        "person = {'name': 'Alice', 'city': 'Paris'}\n",
        "if 'city' in person:\n",
        "    print(\"Key 'city' exists in the dictionary.\")\n",
        "else:\n",
        "    print(\"Key 'city' does not exist.\")"
      ],
      "metadata": {
        "colab": {
          "base_uri": "https://localhost:8080/"
        },
        "id": "2-e_gBygCFPH",
        "outputId": "ecbba939-1726-4c7d-ff16-69c8c66479c6"
      },
      "execution_count": 35,
      "outputs": [
        {
          "output_type": "stream",
          "name": "stdout",
          "text": [
            "Key 'city' exists in the dictionary.\n"
          ]
        }
      ]
    },
    {
      "cell_type": "code",
      "source": [
        "# 26. Write a code to create a list, a tuple, and a dictionary, and print them all.\n",
        "my_list = [1, 2, 3, 4, 5]\n",
        "\n",
        "my_tuple = ('apple', 'banana', 'mango')\n",
        "\n",
        "my_dict = {\n",
        "    'name': 'Souvik',\n",
        "    'age': 24,\n",
        "    'city': 'Kolkata'\n",
        "}\n",
        "print(\"List:\", my_list)\n",
        "print(\"Tuple:\", my_tuple)\n",
        "print(\"Dictionary:\", my_dict)"
      ],
      "metadata": {
        "colab": {
          "base_uri": "https://localhost:8080/"
        },
        "id": "-_oClpL4CThj",
        "outputId": "da459fac-5108-46ea-be2c-a41647c4e6b7"
      },
      "execution_count": 41,
      "outputs": [
        {
          "output_type": "stream",
          "name": "stdout",
          "text": [
            "List: [1, 2, 3, 4, 5]\n",
            "Tuple: ('apple', 'banana', 'mango')\n",
            "Dictionary: {'name': 'Souvik', 'age': 24, 'city': 'Kolkata'}\n"
          ]
        }
      ]
    },
    {
      "cell_type": "code",
      "source": [
        "# 27. Write a code to create a list of 5 random numbers between 1 and 100, sort it in ascending order, and print the result.(replaced)\n",
        "import random\n",
        "random_numbers = random.sample(range(1, 101), 5)\n",
        "random_numbers.sort()\n",
        "print(\"Sorted random numbers:\", random_numbers)"
      ],
      "metadata": {
        "colab": {
          "base_uri": "https://localhost:8080/"
        },
        "id": "1geKGEJyCugM",
        "outputId": "a8288f54-0521-4fdd-d677-86b07257c386"
      },
      "execution_count": 44,
      "outputs": [
        {
          "output_type": "stream",
          "name": "stdout",
          "text": [
            "Sorted random numbers: [4, 11, 27, 40, 96]\n"
          ]
        }
      ]
    },
    {
      "cell_type": "code",
      "source": [
        "# 28. Write a code to create a list with strings and print the element at the third index.\n",
        "my_list = [\"apple\", \"banana\", \"mango\", \"date\", \"cherry\"]\n",
        "print(\"Element at index 3:\", my_list[3])"
      ],
      "metadata": {
        "colab": {
          "base_uri": "https://localhost:8080/"
        },
        "id": "OxTGxsY9EsKh",
        "outputId": "d43cfaf3-ba6c-4d96-e23e-0812777a8052"
      },
      "execution_count": 45,
      "outputs": [
        {
          "output_type": "stream",
          "name": "stdout",
          "text": [
            "Element at index 3: date\n"
          ]
        }
      ]
    },
    {
      "cell_type": "code",
      "source": [
        "# 29. Write a code to combine two dictionaries into one and print the result.\n",
        "dict1 = {'a': 1, 'b': 2}\n",
        "dict2 = {'c': 3, 'd': 4}\n",
        "combined = {**dict1, **dict2}\n",
        "print(combined)"
      ],
      "metadata": {
        "colab": {
          "base_uri": "https://localhost:8080/"
        },
        "id": "weRqMOeKFAyv",
        "outputId": "966e6f6d-8a52-44c3-d157-265d710aaa1f"
      },
      "execution_count": 47,
      "outputs": [
        {
          "output_type": "stream",
          "name": "stdout",
          "text": [
            "{'a': 1, 'b': 2, 'c': 3, 'd': 4}\n"
          ]
        }
      ]
    },
    {
      "cell_type": "code",
      "source": [
        "# 30. Write a code to convert a list of strings into a set.\n",
        "string_list = [\"apple\", \"banana\", \"mango\", \"apple\", \"guava\", \"banana\"]\n",
        "string_set = set(string_list)\n",
        "print(string_set)"
      ],
      "metadata": {
        "colab": {
          "base_uri": "https://localhost:8080/"
        },
        "id": "iitDTio6FQlh",
        "outputId": "07a9ca31-2169-415e-bcd0-a14435166828"
      },
      "execution_count": 58,
      "outputs": [
        {
          "output_type": "stream",
          "name": "stdout",
          "text": [
            "{'mango', 'banana', 'apple', 'guava'}\n"
          ]
        }
      ]
    }
  ]
}