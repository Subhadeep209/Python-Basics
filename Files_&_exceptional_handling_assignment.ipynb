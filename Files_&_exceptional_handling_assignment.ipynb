{
  "nbformat": 4,
  "nbformat_minor": 0,
  "metadata": {
    "colab": {
      "provenance": []
    },
    "kernelspec": {
      "name": "python3",
      "display_name": "Python 3"
    },
    "language_info": {
      "name": "python"
    }
  },
  "cells": [
    {
      "cell_type": "markdown",
      "source": [
        "1. What is the difference between interpreted and compiled languages?\n",
        "  - Interpreted Languages:\n",
        "    - Code is executed line by line.\n",
        "    - Requires an interpreter to run.\n",
        "    - Easier to debug and test.\n",
        "    - Slower execution speed.\n",
        "    - Examples: Python, JavaScript.\n",
        "  - Compiled Languages:\n",
        "    - Entire code is converted to machine code before execution.\n",
        "    - Requires a compiler to build an executable.\n",
        "    - Faster execution speed.\n",
        "    - Harder to debug (errors found during compilation).\n",
        "    - Examples: C, C++, Java (partially compiled).\n",
        "2. What is exception handling in Python?\n",
        "  - Exception handling in Python is a technique used to manage errors that occur during the execution of a program. Instead of letting the program crash when an unexpected issue arises, Python allows developers to use blocks like try, except, else, and finally to catch and respond to these errors gracefully. This makes the code more robust and user-friendly. For example, if a file is missing or a division by zero occurs, Python can handle the error and continue running the program without interruption.\n",
        "3. What is the purpose of the finally block in exception handling?\n",
        "  - The finally block in Python is used to write code that should always run, no matter what happens in the program. It runs whether there is an error or not. This is useful for cleaning up tasks like closing a file or stopping a connection. For example, if you open a file, the finally block can make sure the file gets closed even if something goes wrong.\n",
        "4. What is logging in Python?\n",
        "  - Logging in Python is a way to keep track of what your program is doing. It records messages about events, errors, or other important information while the program runs. This helps you understand what happened if something goes wrong. Python has a built-in logging module that lets you save these messages to the screen or to a file. You can also choose the level of importance for each message, like INFO, WARNING, or ERROR.\n",
        "5. What is the significance of the __del__ method in Python?\n",
        "  - The __del__ method in Python is called when an object is about to be deleted. It is also known as a destructor. This method is useful for cleaning up resources like closing files or releasing memory before the object is removed from memory. Python automatically calls __del__ when there are no more references to the object. However, it’s not always reliable for important cleanup tasks, so it's better to use other methods like with statements or try-finally blocks when possible.\n",
        "6. What is the difference between import and from ... import in Python?\n",
        "  - In Python, import and from ... import are used to bring in code from other modules, but they work differently. When you use import module, you have to use the module name to access its functions or variables, like math.sqrt(4). On the other hand, from module import function lets you use the function directly without the module name, like sqrt(4). The import statement keeps things organized, while from ... import is useful when you only need specific parts of a module.\n",
        "7. How can you handle multiple exceptions in Python?\n",
        "  - In Python, you can handle multiple exceptions by using more than one except block or by grouping exceptions in a single block. If you want to handle different errors in different ways, you can write separate except blocks for each error type. You can also catch multiple exceptions together using a tuple, like except (TypeError, ValueError):. This helps your program respond properly to different kinds of problems without crashing.\n",
        "8. What is the purpose of the with statement when handling files in Python?\n",
        "  - The with statement in Python is used to handle files more safely and easily. When you open a file using with, Python takes care of closing the file automatically after you're done with it—even if an error happens. This makes your code cleaner and helps prevent problems like forgetting to close a file. It’s a good practice to use with when working with files to manage resources properly.\n",
        "9. What is the difference between multithreading and multiprocessing?\n",
        "  - The difference between multithreading and multiprocessing in Python is how they run tasks at the same time. Multithreading uses multiple threads within one process, sharing the same memory. It’s good for tasks like downloading files or handling user input. Multiprocessing uses separate processes with their own memory, which is better for tasks that need a lot of CPU power, like calculations or data processing. Multiprocessing is usually faster for heavy tasks, while multithreading is better for tasks that wait for something, like reading files or network calls.\n",
        "10. What are the advantages of using logging in a program?\n",
        "  - Using logging in a program has many advantages. It helps you keep track of what your program is doing, especially when something goes wrong. Instead of printing messages to the screen, logging can save them to a file for later review. You can also set different levels of importance like INFO, WARNING, or ERROR, so you know which messages need attention. Logging makes it easier to find bugs, understand program flow, and maintain your code over time.\n",
        "11. What is memory management in Python?\n",
        "  - Memory management in Python is the process of handling how memory is used and released while a program runs. Python does this automatically using a system called garbage collection, which removes objects that are no longer needed. It also uses reference counting to keep track of how many times an object is used. This helps prevent memory leaks and keeps the program running smoothly. Developers don’t need to manage memory manually, but understanding how it works can help write better and more efficient code.\n",
        "12. What are the basic steps involved in exception handling in Python?\n",
        "  - The basic steps involved in exception handling in Python include using the try, except, else, and finally blocks. First, you write the risky code inside a try block. If an error happens, the except block catches and handles it. If no error occurs, the else block runs. The finally block runs no matter what, and is usually used for cleanup tasks like closing files. These steps help your program deal with errors without crashing.\n",
        "13. Why is memory management important in Python?\n",
        "  - Memory management is important in Python because it helps the program use memory efficiently and avoid problems like memory leaks or crashes. Python automatically handles memory using garbage collection and reference counting, but understanding it helps you write better code. Good memory management keeps your program fast, stable, and able to handle large amounts of data without slowing down or using too much system memory.\n",
        "14. What is the role of try and except in exception handling?\n",
        "  - The try and except blocks in Python are used to handle errors and prevent the program from crashing. The try block contains the code that might cause an error. If an error happens, Python jumps to the except block, where you can write code to handle the problem. This way, your program can continue running even if something goes wrong. It’s a safe way to deal with unexpected issues like missing files or wrong user input.\n",
        "15. How does Python's garbage collection system work?\n",
        "  - Python’s garbage collection system works by automatically removing objects that are no longer needed to free up memory. It mainly uses reference counting, which keeps track of how many times an object is used. When the count drops to zero, the object is deleted. Python also has a cyclic garbage collector that looks for groups of objects that refer to each other but are no longer used. This system helps keep memory clean and prevents memory leaks without needing manual cleanup.\n",
        "16. What is the purpose of the else block in exception handling?\n",
        "  - The else block in exception handling is used to write code that should run only if no error occurs in the try block. If everything in the try block works fine, Python runs the else block. But if an error happens, the except block runs instead, and the else block is skipped. This helps separate the normal flow of the program from the error-handling part, making the code easier to read and manage.\n",
        "17. What are the common logging levels in Python?\n",
        "  - Python has five common logging levels that show the importance of each message. DEBUG is used for detailed information, mostly for developers. INFO shows general messages about the program’s progress. WARNING alerts you about something that might cause a problem. ERROR reports serious issues that have happened. CRITICAL shows very serious errors that may stop the program. These levels help organize log messages and make it easier to find and fix problems.\n",
        "18. What is the difference between os.fork() and multiprocessing in Python?\n",
        "  - The difference between os.fork() and multiprocessing in Python is how they create new processes. os.fork() is a low-level function available only on Unix-based systems. It creates a child process by copying the current process. It’s powerful but harder to use and manage. On the other hand, the multiprocessing module is a high-level, cross-platform way to create and manage multiple processes. It’s easier to use and works on both Windows and Unix systems, making it better for most Python programs.\n",
        "19. What is the importance of closing a file in Python?\n",
        "  - Closing a file in Python is important because it frees up system resources and makes sure all data is properly saved. When you write to a file, some data might stay in memory until the file is closed. If you don’t close the file, you might lose data or cause memory leaks. Closing a file also helps avoid errors when working with many files. Using a with statement is a good way to make sure the file is closed automatically.\n",
        "20. What is the difference between file.read() and file.readline() in Python?\n",
        "  - The difference between file.read() and file.readline() in Python is how they read data from a file. file.read() reads the entire content of the file as one big string. It’s useful when you want to process everything at once. file.readline() reads just one line at a time, which is helpful when working with large files or when you need to process each line separately. You can use readline() in a loop to go through the file line by line.\n",
        "21. What is the logging module in Python used for?\n",
        "  - The logging module in Python is used to record messages about what your program is doing. It helps you track errors, warnings, and other important events while the program runs. Instead of using print(), logging lets you save messages to a file or show them on the screen with different levels like INFO, WARNING, or ERROR. This makes it easier to debug your code and understand how your program behaves over time.\n",
        "22. What is the os module in Python used for in file handling?\n",
        "  - The os module in Python is used for interacting with the operating system, especially when handling files and directories. It provides functions to create, delete, move, and rename files or folders. You can also use it to check if a file exists, get file paths, or list all files in a directory. The os module makes it easier to manage files and work with the file system in a platform-independent way.\n",
        "23. What are the challenges associated with memory management in Python?\n",
        "  - Some common challenges with memory management in Python include handling large amounts of data, avoiding memory leaks, and managing circular references. Although Python has automatic garbage collection, it may not always clean up memory right away. Circular references—where two objects refer to each other—can be tricky for the garbage collector to handle. Also, using too many global variables or keeping unused objects in memory can slow down the program. Understanding these issues helps write more efficient and reliable code.\n",
        "24. How do you raise an exception manually in Python?\n",
        "  - In Python, you can raise an exception manually using the raise keyword. This is useful when you want to stop the program and show an error message if something goes wrong. You can raise built-in exceptions like ValueError or create your own custom exceptions. For example, raise ValueError(\"Invalid input\") will stop the program and display the message. This helps you control how your program responds to unexpected situations.\n",
        "25. Why is it important to use multithreading in certain applications?\n",
        "  - Using multithreading in certain applications is important because it helps the program run faster and more efficiently, especially when doing many tasks at once. Multithreading allows different parts of a program to run at the same time, like downloading files while responding to user input. It’s useful for tasks that wait for something, such as reading from a file or network. This makes the program more responsive and improves performance without using too much memory."
      ],
      "metadata": {
        "id": "AR-0B77t8xRN"
      }
    },
    {
      "cell_type": "code",
      "execution_count": 3,
      "metadata": {
        "id": "RvvcKrFF3zgd"
      },
      "outputs": [],
      "source": [
        "# 1. How can you open a file for writing in Python and write a string to it?\n",
        "\n",
        "with open(\"example.txt\", \"w\") as file:\n",
        "    file.write(\"Hello, this is a test string.\")"
      ]
    },
    {
      "cell_type": "markdown",
      "source": [
        "Explanation:\n",
        "  - \"example.txt\": The name of the file. It will be created if it doesn’t exist, or overwritten if it does.\n",
        "\n",
        "  - \"w\": Write mode.\n",
        "\n",
        "  - with: Ensures the file is properly closed after writing.\n",
        "\n",
        "  - file.write(): Writes the string to the file."
      ],
      "metadata": {
        "id": "hMUJThVnD9PF"
      }
    },
    {
      "cell_type": "code",
      "source": [
        "# 2. Write a Python program to read the contents of a file and print each line.\n",
        "\n",
        "with open(\"output.txt\", \"w\") as file:\n",
        "    file.write(\"Line 1: Hello,\\nLine 2: Welcome to Python file handling.\\n\")\n",
        "\n",
        "with open(\"output.txt\", \"r\") as file:\n",
        "    for line in file:\n",
        "        print(line.strip())"
      ],
      "metadata": {
        "colab": {
          "base_uri": "https://localhost:8080/"
        },
        "id": "2r8BjLHAEJpH",
        "outputId": "7f1cc385-9e7d-4929-e44f-e1e9fab23481"
      },
      "execution_count": 6,
      "outputs": [
        {
          "output_type": "stream",
          "name": "stdout",
          "text": [
            "Line 1: Hello,\n",
            "Line 2: Welcome to Python file handling.\n"
          ]
        }
      ]
    },
    {
      "cell_type": "code",
      "source": [
        "# 3. How can you open a file for writing in Python and write a string to it?\n",
        "\n",
        "file = open(\"myfile.txt\", \"w\")\n",
        "\n",
        "file.write(\"Hello, this is a string written to the file.\")\n",
        "\n",
        "file.close()"
      ],
      "metadata": {
        "id": "IWwlBZaoFtiN"
      },
      "execution_count": 9,
      "outputs": []
    },
    {
      "cell_type": "code",
      "source": [
        "# 4. Write a Python script that reads from one file and writes its content to another file.\n",
        "import os\n",
        "\n",
        "source_file = \"source.txt\"\n",
        "destination_file = \"destination.txt\"\n",
        "\n",
        "with open(source_file, \"w\") as file:\n",
        "    file.write(\"Line 1: This is the source file.\\n\")\n",
        "    file.write(\"Line 2: Python makes file handling easy.\\n\")\n",
        "    file.write(\"Line 3: Subhadeep is mastering file operations!\\n\")\n",
        "\n",
        "if os.path.exists(source_file):\n",
        "    with open(source_file, \"r\") as src, open(destination_file, \"w\") as dest:\n",
        "        for line in src:\n",
        "            dest.write(line)\n",
        "    print(\" Content copied successfully from source.txt to destination.txt.\")\n",
        "else:\n",
        "    print(f\" File '{source_file}' not found. Please create it first.\")"
      ],
      "metadata": {
        "colab": {
          "base_uri": "https://localhost:8080/"
        },
        "id": "3v45E4QSGZ38",
        "outputId": "9f12855e-5006-48a3-9b87-b0f6ee58e59b"
      },
      "execution_count": 15,
      "outputs": [
        {
          "output_type": "stream",
          "name": "stdout",
          "text": [
            " Content copied successfully from source.txt to destination.txt.\n"
          ]
        }
      ]
    },
    {
      "cell_type": "code",
      "source": [
        "# 5. How would you catch and handle division by zero error in Python?\n",
        "try:\n",
        "    numerator = 10\n",
        "    denominator = int(input(\"Enter a non-zero denominator: \"))\n",
        "    result = numerator / denominator\n",
        "    print(\"Result:\", result)\n",
        "except ZeroDivisionError:\n",
        "    print(\"Error: Cannot divide by zero.\")\n",
        "except ValueError:\n",
        "    print(\"Error: Invalid input. Please enter a number.\")"
      ],
      "metadata": {
        "colab": {
          "base_uri": "https://localhost:8080/"
        },
        "id": "n3UJBsrrHYgH",
        "outputId": "22cdd0ea-7b07-4c72-c4ba-2f671df7154c"
      },
      "execution_count": 16,
      "outputs": [
        {
          "output_type": "stream",
          "name": "stdout",
          "text": [
            "Enter a non-zero denominator: 23\n",
            "Result: 0.43478260869565216\n"
          ]
        }
      ]
    },
    {
      "cell_type": "code",
      "source": [
        "# 6. Write a Python program that logs an error message to a log file when a division by zero exception occurs.\n",
        "import logging\n",
        "\n",
        "logging.basicConfig(filename=\"error_log.txt\", level=logging.ERROR,\n",
        "                    format=\"%(asctime)s - %(levelname)s - %(message)s\")\n",
        "\n",
        "try:\n",
        "    numerator = 10\n",
        "    denominator = 0\n",
        "    result = numerator / denominator\n",
        "    print(\"Result:\", result)\n",
        "except ZeroDivisionError as e:\n",
        "    logging.error(\"Division by zero occurred: %s\", e)\n",
        "    print(\"Error: Cannot divide by zero. Logged to error_log.txt.\")"
      ],
      "metadata": {
        "colab": {
          "base_uri": "https://localhost:8080/"
        },
        "id": "N4RzzzmcH_uv",
        "outputId": "7114f6ad-5253-4933-9dd3-a110bed3988d"
      },
      "execution_count": 17,
      "outputs": [
        {
          "output_type": "stream",
          "name": "stderr",
          "text": [
            "ERROR:root:Division by zero occurred: division by zero\n"
          ]
        },
        {
          "output_type": "stream",
          "name": "stdout",
          "text": [
            "Error: Cannot divide by zero. Logged to error_log.txt.\n"
          ]
        }
      ]
    },
    {
      "cell_type": "code",
      "source": [
        "# 7. How do you log information at different levels (INFO, ERROR, WARNING) in Python using the logging module?\n",
        "import logging\n",
        "\n",
        "logging.basicConfig(\n",
        "    filename=\"app_log.txt\",\n",
        "    level=logging.DEBUG,\n",
        "    format=\"%(asctime)s - %(levelname)s - %(message)s\"\n",
        ")\n",
        "\n",
        "logging.info(\" This is an informational message.\")\n",
        "logging.warning(\" This is a warning message.\")\n",
        "logging.error(\" This is an error message.\")\n",
        "\n",
        "try:\n",
        "    x = 10\n",
        "    y = 0\n",
        "    result = x / y\n",
        "except ZeroDivisionError as e:\n",
        "    logging.error(\" Division by zero error: %s\", e)"
      ],
      "metadata": {
        "colab": {
          "base_uri": "https://localhost:8080/"
        },
        "id": "wzKBjMqDILQ7",
        "outputId": "da35ddb4-67f2-4aa9-fc60-35dc79bee60a"
      },
      "execution_count": 21,
      "outputs": [
        {
          "output_type": "stream",
          "name": "stderr",
          "text": [
            "WARNING:root: This is a warning message.\n",
            "ERROR:root: This is an error message.\n",
            "ERROR:root: Division by zero error: division by zero\n"
          ]
        }
      ]
    },
    {
      "cell_type": "code",
      "source": [
        "# 8. Write a program to handle a file opening error using exception handling.\n",
        "try:\n",
        "    with open(\"non_existent_file.txt\", \"r\") as file:\n",
        "        content = file.read()\n",
        "        print(content)\n",
        "except FileNotFoundError:\n",
        "    print(\" Error: The file was not found.\")\n",
        "except IOError:\n",
        "    print(\" Error: An I/O error occurred while opening the file.\")"
      ],
      "metadata": {
        "colab": {
          "base_uri": "https://localhost:8080/"
        },
        "id": "Z-36xDFfIYaa",
        "outputId": "b3ac49ea-c55c-4d36-abb8-cc39c2ac6354"
      },
      "execution_count": 23,
      "outputs": [
        {
          "output_type": "stream",
          "name": "stdout",
          "text": [
            " Error: The file was not found.\n"
          ]
        }
      ]
    },
    {
      "cell_type": "code",
      "source": [
        "# 9. How can you read a file line by line and store its content in a list in Python?\n",
        "\n",
        "try:\n",
        "    with open(\"sample.txt\", \"r\") as file:\n",
        "        lines = [line.strip() for line in file]\n",
        "\n",
        "    print(lines)\n",
        "except FileNotFoundError:\n",
        "    print(\"Error: File 'sample.txt' not found.\")"
      ],
      "metadata": {
        "colab": {
          "base_uri": "https://localhost:8080/"
        },
        "id": "L_FK-9beI7WE",
        "outputId": "b8bdccf3-788e-44ca-9e0b-681595d0fa76"
      },
      "execution_count": 27,
      "outputs": [
        {
          "output_type": "stream",
          "name": "stdout",
          "text": [
            "Error: File 'sample.txt' not found.\n"
          ]
        }
      ]
    },
    {
      "cell_type": "code",
      "source": [
        "# 10.  How can you append data to an existing file in Python?\n",
        "with open(\"sample.txt\", \"a\") as file:\n",
        "    file.write(\"\\nThis line was appended to the file.\")\n",
        "\n",
        "with open(\"sample.txt\", \"r\") as file:\n",
        "    content = file.read()\n",
        "    print(\" Updated File Content:\")\n",
        "    print(content)"
      ],
      "metadata": {
        "colab": {
          "base_uri": "https://localhost:8080/"
        },
        "id": "qXzsh6wRKgjd",
        "outputId": "60954c90-a7c5-40d8-ae36-0c42783a0451"
      },
      "execution_count": 59,
      "outputs": [
        {
          "output_type": "stream",
          "name": "stdout",
          "text": [
            " Updated File Content:\n",
            "\n",
            "This line was appended to the file.\n",
            "This line was appended to the file.\n",
            "This line was appended to the file.\n",
            "This line was appended to the file.\n",
            "This line was appended to the file.\n"
          ]
        }
      ]
    },
    {
      "cell_type": "code",
      "source": [
        "# 11. Write a Python program that uses a try-except block to handle an error when attempting to access a dictionary key that doesn't exist.\n",
        "\n",
        "data = {\n",
        "    \"name\": \"Subhadeep\",\n",
        "    \"role\": \"Network Engineer\"\n",
        "}\n",
        "\n",
        "try:\n",
        "    department = data[\"department\"]\n",
        "    print(\"Department:\", department)\n",
        "except KeyError:\n",
        "    print(\" Error: 'department' key not found in the dictionary.\")"
      ],
      "metadata": {
        "colab": {
          "base_uri": "https://localhost:8080/"
        },
        "id": "xddUoghNK4kp",
        "outputId": "54d3075a-dbad-4564-d4c9-d605e5c6b1e7"
      },
      "execution_count": 34,
      "outputs": [
        {
          "output_type": "stream",
          "name": "stdout",
          "text": [
            " Error: 'department' key not found in the dictionary.\n"
          ]
        }
      ]
    },
    {
      "cell_type": "code",
      "source": [
        "# 12. Write a program that demonstrates using multiple except blocks to handle different types of exceptions.\n",
        "try:\n",
        "    num = int(input(\"Enter a number: \"))\n",
        "    result = 10 / num\n",
        "    print(\"Result:\", result)\n",
        "\n",
        "    info = {\"name\": \"Subhadeep\"}\n",
        "    print(\"Role:\", info[\"role\"])\n",
        "\n",
        "except ZeroDivisionError:\n",
        "    print(\" Error: Cannot divide by zero.\")\n",
        "\n",
        "except ValueError:\n",
        "    print(\" Error: Invalid input. Please enter a valid number.\")\n",
        "\n",
        "except KeyError:\n",
        "    print(\" Error: Key not found in the dictionary.\")"
      ],
      "metadata": {
        "colab": {
          "base_uri": "https://localhost:8080/"
        },
        "id": "dcgPWpC_LUlm",
        "outputId": "9809429c-17bb-4db7-83c9-262f8c8dffb4"
      },
      "execution_count": 36,
      "outputs": [
        {
          "output_type": "stream",
          "name": "stdout",
          "text": [
            "Enter a number: 34\n",
            "Result: 0.29411764705882354\n",
            " Error: Key not found in the dictionary.\n"
          ]
        }
      ]
    },
    {
      "cell_type": "code",
      "source": [
        "# 13. How would you check if a file exists before attempting to read it in Python.\n",
        "import os\n",
        "\n",
        "filename = \"sample.txt\"\n",
        "\n",
        "if os.path.exists(filename):\n",
        "    with open(filename, \"r\") as file:\n",
        "        content = file.read()\n",
        "        print(\" File Content:\")\n",
        "        print(content)\n",
        "else:\n",
        "    print(f\"❌ Error: File '{filename}' does not exist.\")"
      ],
      "metadata": {
        "colab": {
          "base_uri": "https://localhost:8080/"
        },
        "id": "lr02GYNRLm8s",
        "outputId": "6527f38b-4ebe-4623-b23f-41e088bb388f"
      },
      "execution_count": 40,
      "outputs": [
        {
          "output_type": "stream",
          "name": "stdout",
          "text": [
            " File Content:\n",
            "\n",
            "This line was appended to the file.\n",
            "This line was appended to the file.\n",
            "This line was appended to the file.\n",
            "This line was appended to the file.\n"
          ]
        }
      ]
    },
    {
      "cell_type": "code",
      "source": [
        "# 14. Write a program that uses the logging module to log both informational and error messages.\n",
        "import logging\n",
        "\n",
        "logging.basicConfig(\n",
        "    filename=\"activity_log.txt\",\n",
        "    level=logging.DEBUG,\n",
        "    format=\"%(asctime)s - %(levelname)s - %(message)s\"\n",
        ")\n",
        "\n",
        "logging.info(\"Program started successfully.\")\n",
        "\n",
        "try:\n",
        "    x = 10\n",
        "    y = 0\n",
        "    result = x / y\n",
        "    logging.info(\"Division performed successfully.\")\n",
        "except ZeroDivisionError as e:\n",
        "    logging.error(\"Division by zero error: %s\", e)\n",
        "\n",
        "logging.info(\"Program ended.\")"
      ],
      "metadata": {
        "colab": {
          "base_uri": "https://localhost:8080/"
        },
        "id": "jttDvJc_L0JW",
        "outputId": "ea4d5815-ebef-4d70-d108-e4945699b9d1"
      },
      "execution_count": 38,
      "outputs": [
        {
          "output_type": "stream",
          "name": "stderr",
          "text": [
            "ERROR:root:Division by zero error: division by zero\n"
          ]
        }
      ]
    },
    {
      "cell_type": "code",
      "source": [
        "# 15. Write a Python program that prints the content of a file and handles the case when the file is empty.\n",
        "filename = \"sample.txt\"\n",
        "\n",
        "with open(filename, \"r\") as file:\n",
        "    content = file.read()\n",
        "\n",
        "if content.strip() == \"\":\n",
        "    print(\"⚠️ The file is empty.\")\n",
        "else:\n",
        "    print(\" File Content:\")\n",
        "    print(content)"
      ],
      "metadata": {
        "colab": {
          "base_uri": "https://localhost:8080/"
        },
        "id": "ei5OWHShMBBs",
        "outputId": "1357cac6-f433-49a8-840b-78b9a0fa0f7e"
      },
      "execution_count": 41,
      "outputs": [
        {
          "output_type": "stream",
          "name": "stdout",
          "text": [
            " File Content:\n",
            "\n",
            "This line was appended to the file.\n",
            "This line was appended to the file.\n",
            "This line was appended to the file.\n",
            "This line was appended to the file.\n"
          ]
        }
      ]
    },
    {
      "cell_type": "code",
      "source": [
        "# 16. Demonstrate how to use memory profiling to check the memory usage of a small program.\n",
        "\n",
        "from memory_profiler import profile\n",
        "\n",
        "@profile\n",
        "def allocate_memory():\n",
        "    a = [i for i in range(10000)]\n",
        "    b = [i ** 2 for i in range(10000)]\n",
        "    return a, b\n",
        "\n",
        "if __name__ == \"__main__\":\n",
        "    allocate_memory()"
      ],
      "metadata": {
        "colab": {
          "base_uri": "https://localhost:8080/"
        },
        "id": "doe2DlnPNBI5",
        "outputId": "4da6e14e-4fa4-4da7-d2cf-1157a3564c96"
      },
      "execution_count": 45,
      "outputs": [
        {
          "output_type": "stream",
          "name": "stdout",
          "text": [
            "ERROR: Could not find file /tmp/ipython-input-45-4176116396.py\n"
          ]
        }
      ]
    },
    {
      "cell_type": "code",
      "source": [
        "# 17. Write a Python program to create and write a list of numbers to a file, one number per line.\n",
        "\n",
        "numbers = [1, 2, 3, 4, 5, 6, 7, 8, 9, 10]\n",
        "\n",
        "with open(\"numbers.txt\", \"w\") as file:\n",
        "    for number in numbers:\n",
        "        file.write(f\"{number}\\n\")"
      ],
      "metadata": {
        "id": "UkpR2ofTOGl7"
      },
      "execution_count": 50,
      "outputs": []
    },
    {
      "cell_type": "code",
      "source": [
        "# 18.  How would you implement a basic logging setup that logs to a file with rotation after 1MB?\n",
        "import logging\n",
        "from logging.handlers import RotatingFileHandler\n",
        "\n",
        "logger = logging.getLogger(\"my_logger\")\n",
        "logger.setLevel(logging.DEBUG)\n",
        "\n",
        "handler = RotatingFileHandler(\"app.log\", maxBytes=1024 * 1024, backupCount=5)\n",
        "\n",
        "formatter = logging.Formatter(\"%(asctime)s - %(levelname)s - %(message)s\")\n",
        "handler.setFormatter(formatter)\n",
        "\n",
        "logger.addHandler(handler)\n",
        "\n",
        "logger.info(\" This is an informational message.\")\n",
        "logger.error(\" This is an error message.\")"
      ],
      "metadata": {
        "colab": {
          "base_uri": "https://localhost:8080/"
        },
        "id": "kFpMfUUoOeDj",
        "outputId": "7e270ef9-ddc0-4d6d-fcb8-4db0de9a49ff"
      },
      "execution_count": 52,
      "outputs": [
        {
          "output_type": "stream",
          "name": "stderr",
          "text": [
            "INFO:my_logger: This is an informational message.\n",
            "ERROR:my_logger: This is an error message.\n"
          ]
        }
      ]
    },
    {
      "cell_type": "code",
      "source": [
        "# 19. Write a program that handles both IndexError and KeyError using a try-except block.\n",
        "\n",
        "my_list = [10, 20, 30]\n",
        "my_dict = {\"name\": \"Subhadeep\"}\n",
        "\n",
        "try:\n",
        "    print(\"List item:\", my_list[5])\n",
        "\n",
        "    print(\"Role:\", my_dict[\"role\"])\n",
        "\n",
        "except IndexError:\n",
        "    print(\" Error: List index out of range.\")\n",
        "\n",
        "except KeyError:\n",
        "    print(\" Error: Dictionary key not found.\")"
      ],
      "metadata": {
        "colab": {
          "base_uri": "https://localhost:8080/"
        },
        "id": "JWSjy3BUOtPX",
        "outputId": "186cb27a-ad11-4b2c-d5dc-3fa6c8549cbd"
      },
      "execution_count": 53,
      "outputs": [
        {
          "output_type": "stream",
          "name": "stdout",
          "text": [
            " Error: List index out of range.\n"
          ]
        }
      ]
    },
    {
      "cell_type": "code",
      "source": [
        "# 20. How would you open a file and read its contents using a context manager in Python?\n",
        "with open(\"sample.txt\", \"r\") as file:\n",
        "    content = file.read()\n",
        "    print(content)"
      ],
      "metadata": {
        "colab": {
          "base_uri": "https://localhost:8080/"
        },
        "id": "F7EuveO6O97G",
        "outputId": "a1203c55-230a-40ac-c280-6a8825bf9a22"
      },
      "execution_count": 54,
      "outputs": [
        {
          "output_type": "stream",
          "name": "stdout",
          "text": [
            "\n",
            "This line was appended to the file.\n",
            "This line was appended to the file.\n",
            "This line was appended to the file.\n",
            "This line was appended to the file.\n"
          ]
        }
      ]
    },
    {
      "cell_type": "code",
      "source": [
        "# 21. Write a Python program that reads a file and prints the number of occurrences of a specific word.\n",
        "\n",
        "target_word = \"Python\"\n",
        "\n",
        "count = 0\n",
        "\n",
        "with open(\"sample.txt\", \"r\") as file:\n",
        "    for line in file:\n",
        "        words = line.strip().split()\n",
        "        count += words.count(target_word)\n",
        "\n",
        "print(f\" The word '{target_word}' occurred {count} times in the file.\")"
      ],
      "metadata": {
        "colab": {
          "base_uri": "https://localhost:8080/"
        },
        "id": "3A28JSIJPIEa",
        "outputId": "e6cb9450-fdec-42e7-f410-9e8386879521"
      },
      "execution_count": 58,
      "outputs": [
        {
          "output_type": "stream",
          "name": "stdout",
          "text": [
            " The word 'Python' occurred 0 times in the file.\n"
          ]
        }
      ]
    },
    {
      "cell_type": "code",
      "source": [
        "# 22. How can you check if a file is empty before attempting to read its contents?\n",
        "import os\n",
        "\n",
        "filename = \"sample.txt\"\n",
        "\n",
        "if os.path.getsize(filename) == 0:\n",
        "    print(\" The file is empty.\")\n",
        "else:\n",
        "    with open(filename, \"r\") as file:\n",
        "        content = file.read()\n",
        "        print(\" File Content:\")\n",
        "        print(content)"
      ],
      "metadata": {
        "colab": {
          "base_uri": "https://localhost:8080/"
        },
        "id": "bz5WzF_SPV8I",
        "outputId": "c7f6d5d8-706f-47bb-9cf2-bc936ff4c245"
      },
      "execution_count": 57,
      "outputs": [
        {
          "output_type": "stream",
          "name": "stdout",
          "text": [
            " File Content:\n",
            "\n",
            "This line was appended to the file.\n",
            "This line was appended to the file.\n",
            "This line was appended to the file.\n",
            "This line was appended to the file.\n"
          ]
        }
      ]
    },
    {
      "cell_type": "code",
      "source": [
        "# 23. Write a Python program that writes to a log file when an error occurs during file handling.\n",
        "import logging\n",
        "\n",
        "logging.basicConfig(\n",
        "    filename=\"file_errors.log\",\n",
        "    level=logging.ERROR,\n",
        "    format=\"%(asctime)s - %(levelname)s - %(message)s\"\n",
        ")\n",
        "\n",
        "try:\n",
        "    with open(\"non_existent_file.txt\", \"r\") as file:\n",
        "        content = file.read()\n",
        "        print(content)\n",
        "except FileNotFoundError as e:\n",
        "    logging.error(\"File not found: %s\", e)\n",
        "    print(\" Error: File not found. Logged to file_errors.log.\")\n",
        "except IOError as e:\n",
        "    logging.error(\"I/O error occurred: %s\", e)\n",
        "    print(\" Error: I/O error occurred. Logged to file_errors.log.\")"
      ],
      "metadata": {
        "colab": {
          "base_uri": "https://localhost:8080/"
        },
        "id": "PWkYaqQ6Pu6w",
        "outputId": "4df503f6-88ee-4b04-9184-6ae58e87c413"
      },
      "execution_count": 60,
      "outputs": [
        {
          "output_type": "stream",
          "name": "stderr",
          "text": [
            "ERROR:root:File not found: [Errno 2] No such file or directory: 'non_existent_file.txt'\n"
          ]
        },
        {
          "output_type": "stream",
          "name": "stdout",
          "text": [
            " Error: File not found. Logged to file_errors.log.\n"
          ]
        }
      ]
    }
  ]
}