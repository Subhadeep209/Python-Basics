{
  "nbformat": 4,
  "nbformat_minor": 0,
  "metadata": {
    "colab": {
      "provenance": []
    },
    "kernelspec": {
      "name": "python3",
      "display_name": "Python 3"
    },
    "language_info": {
      "name": "python"
    }
  },
  "cells": [
    {
      "cell_type": "markdown",
      "source": [
        "1. What is Python, and why is it popular?\n",
        " - Python is a high-level, versatile programming language known for its simplicity and readability. It’s widely used in fields like web development, data science, automation, artificial intelligence, and cybersecurity.\n",
        "Python is popular because:\n",
        "    - Its syntax is easy to learn, making it beginner-friendly.\n",
        "    - It has a vast library ecosystem, including NumPy and Pandas for data analysis, and TensorFlow for machine learning.\n",
        "    - It runs on multiple platforms like Windows, macOS, and Linux without major modifications.\n",
        "    - The large community provides extensive support and resources.\n",
        "2. What is an interpreter in Python?\n",
        " - An interpreter in Python is a program that executes code line by line, instead of compiling everything at once like some other languages like C or Java. This makes Python easy to debug and flexible for interactive programming.\n",
        "3. What are pre-defined keywords in Python?\n",
        " - Pre-defined keywords in Python are reserved words that have specific meanings and cannot be used as variable names, function names, or identifiers. These keywords define Python’s syntax and structure.\n",
        "4. Can keywords be used as variable names?\n",
        "  - No, keywords cannot be used as variable names in Python. Since keywords have predefined meanings and functions within Python’s syntax, using them as variables would cause syntax errors.\n",
        "5. What is mutability in Python?\n",
        "  - Mutability in Python refers to whether an object’s value can be changed after it has been created. Mutability impacts performance, memory efficiency, and how objects are stored.\n",
        "6. Why are lists mutable, but tuples are immutable?\n",
        "  - Lists are mutable because they are designed to be dynamic—allowing modification, addition, and removal of elements. Tuples, on the other side, are immutable to ensure stability, performance, and safe data handling.\n",
        "7. What is the difference between “==” and “is” operators in Python?\n",
        "  - The \"==\" operator checks if two objects have the same value, while \"is\" checks if they refer to the same memory location. \"==\" is used for content comparison, whereas \"is\" verifies identity. They can give different results, especially with mutable objects.\n",
        "8. What are logical operators in Python?\n",
        "  - Logical operators in Python are used to perform Boolean logic operations and evaluate conditions. The three main logical operators are:\n",
        "    - and: Returns True if both conditions are True.\n",
        "    - or: Returns True if at least one condition is True.\n",
        "    - not: Reverses the truth value of a condition (True becomes False, and vice versa).\n",
        " - These operators are essential for control flow, conditional statements, and decision-making in Python.\n",
        "9. What is type casting in Python?\n",
        "  - Type casting in Python refers to the conversion of one data type into another to ensure compatibility in operations or data processing. Type casting is essential for handling different types of data efficiently, ensuring accuracy in computations, and preventing errors due to mismatched data types.\n",
        "There are two types of type casting:\n",
        "    a. Implicit Type Casting\n",
        "    b. Explicit Type Casting\n",
        "10. What is the difference between implicit and explicit type casting?\n",
        "  -  The difference between implicit and explicit type casting lies in how the conversion happens, Implicit casting is seamless and helps in arithmetic operations, while explicit casting ensures precision and control over the data format.\n",
        "      - Implicit Type Casting: Python automatically converts one data type to another when needed, without user intervention. This usually occurs when performing operations between different types, like converting an int to a float to avoid precision loss.\n",
        "      - Explicit Type Casting: The user manually converts data types using built-in functions like int(), float(), or str(). This ensures data compatibility and prevents unexpected behavior when working with mixed data types.\n",
        "11. What is the purpose of conditional statements in Python?\n",
        "  - Conditional statements in Python control the flow of a program by allowing decisions to be made based on conditions. They enable a program to execute different code blocks depending on whether certain conditions are True or False. Python uses if, elif, and else statements for conditional execution.\n",
        "Purpose of Conditional Statements:\n",
        "      - Decision Making – Execute specific actions based on given conditions.\n",
        "      - Control Flow – Alter how the program runs depending on logical tests.\n",
        "      - Dynamic Behavior – Make the program flexible to handle varying inputs.\n",
        "12. How does the elif statement work?\n",
        "  - The elif statement in Python is used in conditional execution to check multiple conditions sequentially. It acts as \"else if\", allowing a program to test multiple conditions without nesting multiple if statements.\n",
        "\n",
        "      - The program evaluates the if condition first.\n",
        "      - If if is False, it moves to the elif condition.\n",
        "      - Multiple elif statements can be used to check different conditions.\n",
        "      - If none of the if or elif conditions are met, the else statement executes as the fallback.\n",
        "13. What is the difference between for and while loops?\n",
        "  - A for loop in Python is used for iterating over a sequence, such as a list, tuple, or range. It runs a fixed number of times, based on the length of the sequence. On the other side, a while loop runs as long as a specified condition remains true. It does not rely on a predefined sequence but instead continues executing until the condition changes to false. for loops are better when the number of iterations is known in advance, whereas while loops are ideal for dynamic conditions where the stopping point depends on runtime evaluations.\n",
        "14. Describe a scenario where a while loop is more suitable than a for loop?\n",
        "  - A while loop is more suitable than a for loop when the number of iterations is not predetermined and depends on a condition changing during execution.\n",
        "For example, Imagine a program to keep asking for a correct password until the user enters the right one. Since we don’t know how many attempts will be needed, a while loop works best.\n",
        "While loops are ideal for dynamic conditions like real-time monitoring, user input validation, or waiting for a process to complete.\n",
        "\n",
        "\n",
        "\n",
        "\n",
        "\n",
        "\n",
        "\n",
        "\n"
      ],
      "metadata": {
        "id": "leqBZGCge5Sx"
      }
    },
    {
      "cell_type": "code",
      "execution_count": 3,
      "metadata": {
        "colab": {
          "base_uri": "https://localhost:8080/"
        },
        "id": "KvVEV2VTeebo",
        "outputId": "31795965-528c-4a90-d30e-ae05fe767c82"
      },
      "outputs": [
        {
          "output_type": "stream",
          "name": "stdout",
          "text": [
            "Hello, World!\n"
          ]
        }
      ],
      "source": [
        "# 1. Write a Python program to print \"Hello, World!\"\n",
        "\n",
        "print(\"Hello, World!\")"
      ]
    },
    {
      "cell_type": "code",
      "source": [
        "# 2. Write a Python program that displays your name and age.\n",
        "\n",
        "name = \"Subhadeep\"\n",
        "age = 26\n",
        "\n",
        "print(\"My name is\", name, \"and I am\", age, \"years old.\")"
      ],
      "metadata": {
        "colab": {
          "base_uri": "https://localhost:8080/"
        },
        "id": "aT7RRUyduh-v",
        "outputId": "5f8949f4-4921-4321-b328-50e1b99a7e67"
      },
      "execution_count": 6,
      "outputs": [
        {
          "output_type": "stream",
          "name": "stdout",
          "text": [
            "My name is Subhadeep and I am 26 years old.\n"
          ]
        }
      ]
    },
    {
      "cell_type": "code",
      "source": [
        "# 3. Write code to print all the pre-defined keywords in Python using the keyword library.\n",
        "\n",
        "import keyword\n",
        "\n",
        "print(\"Python Keywords:\")\n",
        "print(keyword.kwlist)"
      ],
      "metadata": {
        "id": "e2sMtVH1vTat"
      },
      "execution_count": null,
      "outputs": []
    },
    {
      "cell_type": "code",
      "source": [
        "# 4. Write a program that checks if a given word is a Python keyword.\n",
        "\n",
        "import keyword\n",
        "\n",
        "word = input(\"Enter a word: \")\n",
        "\n",
        "if keyword.iskeyword(word):\n",
        "    print(f\"{word} is a Python keyword.\")\n",
        "else:\n",
        "    print(f\"{word} is not a Python keyword.\")"
      ],
      "metadata": {
        "id": "fVf1RI4uxoXW"
      },
      "execution_count": null,
      "outputs": []
    },
    {
      "cell_type": "code",
      "source": [
        "# 5. Create a list and tuple in Python, and demonstrate how attempting to change an element works differently for each.\n",
        "\n",
        "my_list = [1, 2, 3]\n",
        "my_tuple = (1, 2, 3)\n",
        "\n",
        "my_list[0] = 10\n",
        "print(\"Modified list:\", my_list)  # Output: [10, 2, 3]\n",
        "\n",
        "my_tuple[0] = 10"
      ],
      "metadata": {
        "id": "jmBRbwEux5Cs"
      },
      "execution_count": null,
      "outputs": []
    },
    {
      "cell_type": "code",
      "source": [
        "# 6. Write a function to demonstrate the behaviour of mutable and immutable arguments.\n",
        "\n",
        "def modify_values(mutable_obj, immutable_obj):\n",
        "    mutable_obj.append(4)\n",
        "\n",
        "    immutable_obj += 11\n",
        "\n",
        "    print(\"Inside function:\")\n",
        "    print(\"Mutable object:\", mutable_obj)\n",
        "    print(\"Immutable object:\", immutable_obj)\n",
        "\n",
        "my_list = [1, 2, 3]\n",
        "my_int = 6\n",
        "\n",
        "modify_values(my_list, my_int)\n",
        "\n",
        "print(\"\\nOutside function:\")\n",
        "print(\"Mutable object:\", my_list)\n",
        "print(\"Immutable object:\", my_int)"
      ],
      "metadata": {
        "id": "-qWfokFNzazM"
      },
      "execution_count": null,
      "outputs": []
    },
    {
      "cell_type": "code",
      "source": [
        "# 7. Write a program that performs basic arithmetic operations on two user-input numbers.\n",
        "\n",
        "num1 = float(input(\"Enter first number: \"))\n",
        "num2 = float(input(\"Enter second number: \"))\n",
        "\n",
        "print(f\"Addition: {num1} + {num2} = {num1 + num2}\")\n",
        "print(f\"Subtraction: {num1} - {num2} = {num1 - num2}\")\n",
        "print(f\"Multiplication: {num1} * {num2} = {num1 * num2}\")\n",
        "print(f\"Division: {num1} / {num2} = {num1 / num2}\" if num2 != 0 else \"Division by zero is not allowed.\")"
      ],
      "metadata": {
        "id": "1oNmd2Z_0Y18"
      },
      "execution_count": null,
      "outputs": []
    },
    {
      "cell_type": "code",
      "source": [
        "# 8. Write a program to demonstrate the use of logical operators.\n",
        "\n",
        "num1 = int(input(\"Enter a number: \"))\n",
        "num2 = int(input(\"Enter another number: \"))\n",
        "\n",
        "print(\"Both numbers are positive:\", num1 > 0 and num2 > 0)  # 'and' operator\n",
        "print(\"At least one number is positive:\", num1 > 0 or num2 > 0)  # 'or' operator\n",
        "print(\"The first number is not negative:\", not (num1 < 0))  # 'not' operator"
      ],
      "metadata": {
        "id": "GWYVuzbZ125v"
      },
      "execution_count": null,
      "outputs": []
    },
    {
      "cell_type": "code",
      "source": [
        "# 9. Write a Python program to convert user input from string to integer, float, and boolean types.\n",
        "\n",
        "user_input = input(\"Enter a value: \")\n",
        "\n",
        "int_value = int(user_input) if user_input.isdigit() else \"Cannot convert to int\"\n",
        "float_value = float(user_input) if user_input.replace(\".\", \"\", 1).isdigit() else \"Cannot convert to float\"\n",
        "bool_value = bool(user_input)\n",
        "\n",
        "print(\"Integer:\", int_value)\n",
        "print(\"Float:\", float_value)\n",
        "print(\"Boolean:\", bool_value)"
      ],
      "metadata": {
        "id": "bS5EwPTPFXfR"
      },
      "execution_count": null,
      "outputs": []
    },
    {
      "cell_type": "code",
      "source": [
        "# 10. Write code to demonstrate type casting with list elements.\n",
        "\n",
        "mixed_list = [\"10\", \"3.5\", \"True\", \"False\"]\n",
        "\n",
        "int_value = int(mixed_list[0])\n",
        "float_value = float(mixed_list[1])\n",
        "bool_value1 = bool(mixed_list[2])\n",
        "bool_value2 = bool(mixed_list[3])\n",
        "\n",
        "# Display results\n",
        "print(\"Integer:\", int_value)\n",
        "print(\"Float:\", float_value)\n",
        "print(\"Boolean (True):\", bool_value1)\n",
        "print(\"Boolean (False):\", bool_value2)"
      ],
      "metadata": {
        "id": "2LCcduapHRW4"
      },
      "execution_count": null,
      "outputs": []
    },
    {
      "cell_type": "code",
      "source": [
        "# 11. Write a program that checks if a number is positive, negative, or zero.\n",
        "\n",
        "num = float(input(\"Enter a number: \"))\n",
        "\n",
        "if num > 0:\n",
        "    print(\"The number is positive.\")\n",
        "elif num < 0:\n",
        "    print(\"The number is negative.\")\n",
        "else:\n",
        "    print(\"The number is zero.\")"
      ],
      "metadata": {
        "id": "gM_kEWP3IEah"
      },
      "execution_count": null,
      "outputs": []
    },
    {
      "cell_type": "code",
      "source": [
        "# 12. Write a for loop to print numbers from 1 to 10.\n",
        "\n",
        "for num in range(1, 11):\n",
        "    print(num)"
      ],
      "metadata": {
        "id": "S7YBrK_jIdhY"
      },
      "execution_count": null,
      "outputs": []
    },
    {
      "cell_type": "code",
      "source": [
        "# 13. Write a Python program to find the sum of all even numbers between 1 and 50.\n",
        "\n",
        "even_sum = 0\n",
        "\n",
        "for num in range(1, 51):\n",
        "    if num % 2 == 0:\n",
        "        even_sum += num\n",
        "\n",
        "print(\"Sum of even numbers from 1 to 50:\", even_sum)"
      ],
      "metadata": {
        "id": "kRzMia2pIx47"
      },
      "execution_count": null,
      "outputs": []
    },
    {
      "cell_type": "code",
      "source": [
        "# 14. Write a program to reverse a string using a while loop.\n",
        "\n",
        "text = input(\"Enter a string: \")\n",
        "\n",
        "reversed_text = \"\"\n",
        "index = len(text) - 1\n",
        "\n",
        "while index >= 0:\n",
        "    reversed_text += text[index]\n",
        "    index -= 1\n",
        "\n",
        "print(\"Reversed string:\", reversed_text)"
      ],
      "metadata": {
        "id": "1LkBCg7KJKeZ"
      },
      "execution_count": null,
      "outputs": []
    },
    {
      "cell_type": "code",
      "source": [
        "# 15. Write a Python program to calculate the factorial of a number provided by the user using a while loop.\n",
        "\n",
        "num = int(input(\"Enter a number: \"))\n",
        "\n",
        "factorial = 1\n",
        "i = num\n",
        "\n",
        "while i > 1:\n",
        "    factorial *= i\n",
        "    i -= 1\n",
        "\n",
        "print(f\"Factorial of {num} is {factorial}\")"
      ],
      "metadata": {
        "id": "mR7Z_2fVLMVZ"
      },
      "execution_count": null,
      "outputs": []
    }
  ]
}