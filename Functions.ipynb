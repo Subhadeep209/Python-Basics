{
  "nbformat": 4,
  "nbformat_minor": 0,
  "metadata": {
    "colab": {
      "provenance": []
    },
    "kernelspec": {
      "name": "python3",
      "display_name": "Python 3"
    },
    "language_info": {
      "name": "python"
    }
  },
  "cells": [
    {
      "cell_type": "markdown",
      "source": [
        "1. What is the difference between a function and a method in Python?\n",
        "  -  Function vs Method in Python\n",
        "    - Function: A function is a block of code that performs an operation. It is defined using the def keyword and can be used independently.\n",
        "    - Method: A method is like a function but is associated with an object. It’s called on an object and can access or modify the object’s internal state. In short, a method is a function that belongs to an object.\n",
        "\n",
        "- Example: Function\n",
        "\n",
        "def shout(text):\n",
        "  \n",
        "return text.upper()\n",
        "\n",
        "print(shout(\"hello\"))\n",
        "# Output: HELLO\n",
        "\n",
        "This function is not tied to any object.\n",
        "\n",
        "- Example: Method\n",
        "\n",
        "message = \"hello\"\n",
        "\n",
        "print(message.upper())\n",
        "# Output: HELLO\n",
        "\n",
        "Here, upper() is a method because it belongs to the string object message.\n",
        "\n",
        "\n",
        "2. Explain the concept of function arguments and parameters in Python.\n",
        "  - Parameters vs Arguments in Python\n",
        "    - Parameters are the names listed in a function’s definition.\n",
        "    - Arguments are the actual values passed to the function when it’s called.\n",
        "\n",
        "Think of it like a blueprint (parameters) and the real inputs (arguments) we use to build with it.\n",
        "\n",
        "- Example:\n",
        "def greet(name):  # 'name' is a parameter\n",
        "    print(f\"Hello, {name}!\")\n",
        "\n",
        "greet(\"Subhadeep\")  # \"Subhadeep\" is an argument\n",
        "\n",
        "\n",
        "When the function is defined, name is a placeholder. When it's called, \"Subhadeep\" is fed in as the real data.\n",
        "\n",
        " - Types of Arguments\n",
        "- Positional Arguments – Passed in order.\n",
        "- Keyword Arguments – Specified by name.\n",
        "- Default Arguments – Provide a fallback value.\n",
        "- Variable-length Arguments – Use args and kwargs.\n",
        "\n",
        "\n",
        "3. What are the different ways to define and call a function in Python?\n",
        "  - Defining a Function in Python\n",
        "\n",
        "    - In Python, functions are defined to encapsulate logic that can be reused. The ways of defining functions include:\n",
        "      - Standard Function Definition (def):\n",
        "The most common approach—using the def keyword followed by the function name and parentheses enclosing parameters.\n",
        "      - Lambda Function (Anonymous Function):\n",
        "A lightweight function defined using the lambda keyword. These are used for short, throwaway operations, typically passed as arguments.\n",
        "      - Recursive Function:\n",
        "A function that calls itself within its own body to solve problems that can be broken into smaller sub-problems (like factorial or tree traversal).\n",
        "      - Function with Default Parameters:\n",
        "Functions can be defined with default values for one or more parameters, allowing calls to omit those arguments when using default behavior.\n",
        "      - Function with Variable-Length Arguments:\n",
        "Python supports *args and **kwargs to handle a flexible number of positional and keyword arguments respectively.\n",
        "\n",
        "- Calling a Function in Python\n",
        "\n",
        " - A function is called by using its name followed by parentheses. The style of the call depends on:\n",
        "    - Positional Arguments:\n",
        "Arguments are matched to parameters based on their order.\n",
        "    - Keyword Arguments:\n",
        "Arguments are passed using the parameter names, allowing order to be irrelevant.\n",
        "    - Mixing Positional and Keyword Arguments:\n",
        "Python allows using both in a single call, as long as positional arguments come first.\n",
        "    - Omitting Arguments (When Defaults Exist):\n",
        "If the function has default parameter values, we may omit those arguments during the call.\n",
        "    - Using Unpacking (* and **):\n",
        "we can unpack a list or dictionary into positional or keyword arguments respectively when calling the function.\n",
        "\n",
        "\n",
        "4. What is the purpose of the `return` statement in a Python function?\n",
        "  - The return statement in Python serves to exit a function and send back a result to the place where the function was called. It essentially hands over a value for further use in the program.\n",
        "    - Transfers Control:\n",
        "As soon as Python encounters a return, it immediately exits the function—no other code in the function is executed beyond it.\n",
        "    - Returns Output to Caller:\n",
        "It allows the function to pass back data (a number, string, list, object, etc.) to the part of the program that called it.\n",
        "    - Supports Reusability and Composability:\n",
        "A returned value can be stored in a variable, used in expressions, or passed into other functions—making code modular and efficient.\n",
        "    - Optional Use:\n",
        "Functions don’t have to return something. If return is omitted or used alone (return), the function returns None by default.\n",
        "\n",
        "\n",
        "5. What are iterators in Python and how do they differ from iterables?\n",
        "- Iterable\n",
        "\n",
        "An iterable is any Python object that can be \"iterated over,\" meaning it can return its elements one at a time. It adheres to the iterable protocol, which requires the presence of the __iter__() method. When we use constructs like a for loop, Python internally calls this method to obtain an iterator from the iterable.\n",
        "\n",
        "Common built-in iterables include sequences like lists, tuples, strings, and dictionaries.\n",
        "\n",
        " - Iterator\n",
        "\n",
        "An iterator is an object that implements two special methods:\n",
        "    - __iter__() – returns the iterator object itself.\n",
        "    - __next__() – returns the next element in the sequence and raises StopIteration when no more items are available.\n",
        "Once an iterator is created (usually from an iterable), it maintains internal state, producing one item at a time on each call to __next__().\n",
        "\n",
        "  -  Key Differences\n",
        "- Iterable: Think of it as a \"container\" that can be looped over, but does not itself keep track of where we are in the iteration.\n",
        "- Iterator: Think of it as an \"active reader\" that moves through the container and remembers where it left off.\n",
        "\n",
        "6. Explain the concept of generators in Python and how they are defined.\n",
        " - A generator is a type of iterable, like a list or tuple, but unlike them, it doesn't store all its values in memory at once. Instead, it yields items one at a time only when they're requested. This lazy evaluation makes generators perfect for working with large data sets or streams.\n",
        "Generators help we:\n",
        "    - Conserve memory (by not loading everything at once)\n",
        "    - Pause and resume execution (making them stateful)\n",
        "    - Write clean, readable code for pipelines or iterative tasks\n",
        "\n",
        "  - How Generators Are Defined\n",
        "  \n",
        "There are two main ways to define generators in Python:\n",
        "- Using the yield keyword inside a function: A generator function looks like a normal function but uses yield instead of return. Every time it's called, it resumes from where it last left off.\n",
        "- Example (theoretical form):\n",
        "“Define a function that produces values sequentially using yield, and call it to retrieve one value at a time.”\n",
        "- Using Generator Expressions: These are similar to list comprehensions but with parentheses. They are concise and used when we don't need the entire output in memory.\n",
        "- Example (theoretical form):\n",
        "“Wrap a for-expression in parentheses instead of brackets to create a generator that lazily evaluates the result.”\n",
        "\n",
        "\n",
        "7. What are the advantages of using generators over regular functions?\n",
        "  - Memory Efficiency\n",
        "Unlike regular functions that return complete data structures (like lists), generators produce one item at a time, which means they don’t store the entire result in memory. This is perfect for handling large datasets or infinite sequences.\n",
        "  - Lazy Evaluation\n",
        "Generators yield values only when needed, not all at once. This on-demand execution minimizes resource usage and makes them ideal for pipelines and streaming.\n",
        "  - Improved Performance\n",
        "Because values are generated on the fly, generators can start producing output immediately, without waiting for the entire operation to complete. This leads to faster perceived performance in many cases.\n",
        "  - Simplified Code for Iterative Processes\n",
        "Using yield allows we to maintain state across iterations naturally, without the need for complex bookkeeping using local variables or external counters.\n",
        "  - Infinite Sequences Support\n",
        "Generators can represent infinite data streams—like an endless series of Fibonacci numbers—whereas regular functions would crash or hang trying to build such a structure in memory.\n",
        "  - Composability\n",
        "we can build elegant pipelines by chaining generators, where each stage processes data and passes it along—akin to Unix-style piping.\n",
        "\n",
        "\n",
        "8. What is a lambda function in Python and when is it typically used?\n",
        "  - A lambda function is a lightweight function that can take any number of arguments but can only evaluate and return one expression.\n",
        "  - Lambda functions are used when:\n",
        "    - we need a short function temporarily without formally naming it.\n",
        "    - we want to pass a function as an argument to higher-order functions like map(), filter(), or sorted().\n",
        "    - we want compactness and clarity for simple operations—especially in data transformations or one-liners.\n",
        "    - we’re working with functional-style programming, and want an expression that conveys logic inline.\n",
        "\n",
        "\n",
        "9. Explain the purpose and usage of the `map()` function in Python.\n",
        "  - The map() function is used to apply a specific function to each item in an iterable (like a list, tuple, etc.) and returns a map object (an iterator) containing the results.\n",
        "It’s particularly useful when you want to transform data without writing explicit for loops.\n",
        "  - When to Use map()\n",
        "    - When you need to apply one consistent transformation across a collection of values.\n",
        "    - When you want concise, readable code—especially with lambda for inline functions.\n",
        "    - When you aim for better performance through iterator-based processing rather than creating intermediate lists manually.\n",
        "\n",
        "\n",
        "10. What is the difference between `map()`, `reduce()`, and `filter()` functions in Python?\n",
        "-  map() Function\n",
        "Purpose: Applies a transformation function to each item in an iterable, producing a new iterable (usually for modifying or converting data).\n",
        "    - Nature: Non-destructive—original data remains unchanged.\n",
        "    - Returns: A new view (a map object) of the transformed data.\n",
        "    - Function Requirement: Must accept a single argument (applied to each item individually).\n",
        "\n",
        "- filter() Function\n",
        "Purpose: Applies a predicate (truth test) to each element in an iterable and retains only those elements for which the function returns True.\n",
        "    - Nature: Selective—extracts a subset of original data.\n",
        "    - Returns: A filtered view of the data (a filter object).\n",
        "    - Function Requirement: Must return a Boolean (True or False) for each item.\n",
        "\n",
        "- reduce() Function\n",
        "Purpose: Applies a function cumulatively to the items of an iterable, reducing the iterable to a single output value.\n",
        "    - Nature: Aggregative—collapses multiple items into one.\n",
        "    - Returns: A final result (not an iterable).\n",
        "    - Function Requirement: Must accept exactly two arguments—the accumulator and the next item in the iterable.\n",
        "\n",
        "11. Using pen & Paper write the internal mechanism for sum operation using  reduce function on this given list:[47,11,42,13];\n",
        "  - https://drive.google.com/file/d/1r-YE_QgQqkcnUe6unxlVPkI241az1jEK/view?usp=sharing"
      ],
      "metadata": {
        "id": "1wWtmB4LlSo5"
      }
    },
    {
      "cell_type": "code",
      "execution_count": 10,
      "metadata": {
        "colab": {
          "base_uri": "https://localhost:8080/"
        },
        "id": "myofEMNOkx7O",
        "outputId": "7c18c09c-53c2-4952-9fb2-d96f656a7e3f"
      },
      "outputs": [
        {
          "output_type": "stream",
          "name": "stdout",
          "text": [
            "60\n"
          ]
        }
      ],
      "source": [
        "# 1. Write a Python function that takes a list of numbers as input and returns the sum of all even numbers in the list.\n",
        "\n",
        "def sum_even_numbers(nums):\n",
        "    total = 0\n",
        "    for num in nums:\n",
        "        if num % 2 == 0:\n",
        "            total += num\n",
        "    return total\n",
        "\n",
        "print(sum_even_numbers([10, 15, 20, 25, 30]))"
      ]
    },
    {
      "cell_type": "code",
      "source": [
        "# 2. Create a Python function that accepts a string and returns the reverse of that string.\n",
        "def reverse_string(text):\n",
        "    return text[::-1]\n",
        "\n",
        "print(reverse_string(\"Subhadeep\"))"
      ],
      "metadata": {
        "colab": {
          "base_uri": "https://localhost:8080/"
        },
        "id": "rMdnRw9Q0zJk",
        "outputId": "e6451420-82f9-49dc-9b9b-d5ebd4ea09cc"
      },
      "execution_count": 11,
      "outputs": [
        {
          "output_type": "stream",
          "name": "stdout",
          "text": [
            "peedahbuS\n"
          ]
        }
      ]
    },
    {
      "cell_type": "code",
      "source": [
        "# 3. Write a Python function that takes a list of numbers as input and returns the sum of all even numbers in the list.\n",
        "\n",
        "def sum_even_numbers(numbers):\n",
        "    even_sum = 0\n",
        "    for num in numbers:\n",
        "        if num % 2 == 0:\n",
        "            even_sum += num\n",
        "    return even_sum\n",
        "\n",
        "my_list = [2, 5, 8, 11, 14]\n",
        "print(\"Sum of even numbers:\", sum_even_numbers(my_list))"
      ],
      "metadata": {
        "colab": {
          "base_uri": "https://localhost:8080/"
        },
        "id": "vSasiqFw3GnV",
        "outputId": "efe067ba-c7de-44e9-c562-99b1cccf715a"
      },
      "execution_count": 12,
      "outputs": [
        {
          "output_type": "stream",
          "name": "stdout",
          "text": [
            "Sum of even numbers: 24\n"
          ]
        }
      ]
    },
    {
      "cell_type": "code",
      "source": [
        "# 4. Write a Python function that checks if a given number is prime or not from 1 to 200.\n",
        "def is_prime(n):\n",
        "    if n < 1 or n > 200:\n",
        "        return False\n",
        "    for i in range(2, int(n ** 0.5) + 1):\n",
        "        if n % i == 0:\n",
        "            return False\n",
        "    return True\n",
        "\n",
        "for num in range(1, 201):\n",
        "    if is_prime(num):\n",
        "        print(f\"{num} is a prime number\")"
      ],
      "metadata": {
        "colab": {
          "base_uri": "https://localhost:8080/"
        },
        "id": "YGNK4jCj4Fvz",
        "outputId": "601bfed3-7c34-471c-b574-c1d4ec6c8bd5"
      },
      "execution_count": 16,
      "outputs": [
        {
          "output_type": "stream",
          "name": "stdout",
          "text": [
            "1 is a prime number\n",
            "2 is a prime number\n",
            "3 is a prime number\n",
            "5 is a prime number\n",
            "7 is a prime number\n",
            "11 is a prime number\n",
            "13 is a prime number\n",
            "17 is a prime number\n",
            "19 is a prime number\n",
            "23 is a prime number\n",
            "29 is a prime number\n",
            "31 is a prime number\n",
            "37 is a prime number\n",
            "41 is a prime number\n",
            "43 is a prime number\n",
            "47 is a prime number\n",
            "53 is a prime number\n",
            "59 is a prime number\n",
            "61 is a prime number\n",
            "67 is a prime number\n",
            "71 is a prime number\n",
            "73 is a prime number\n",
            "79 is a prime number\n",
            "83 is a prime number\n",
            "89 is a prime number\n",
            "97 is a prime number\n",
            "101 is a prime number\n",
            "103 is a prime number\n",
            "107 is a prime number\n",
            "109 is a prime number\n",
            "113 is a prime number\n",
            "127 is a prime number\n",
            "131 is a prime number\n",
            "137 is a prime number\n",
            "139 is a prime number\n",
            "149 is a prime number\n",
            "151 is a prime number\n",
            "157 is a prime number\n",
            "163 is a prime number\n",
            "167 is a prime number\n",
            "173 is a prime number\n",
            "179 is a prime number\n",
            "181 is a prime number\n",
            "191 is a prime number\n",
            "193 is a prime number\n",
            "197 is a prime number\n",
            "199 is a prime number\n"
          ]
        }
      ]
    },
    {
      "cell_type": "code",
      "source": [
        "# 5. Create an iterator class in Python that generates the Fibonacci sequence up to a specified number of terms.\n",
        "class FibonacciIterator:\n",
        "    def __init__(self, max_terms):\n",
        "        self.max_terms = max_terms\n",
        "        self.count = 0\n",
        "        self.a, self.b = 0, 1\n",
        "\n",
        "    def __iter__(self):\n",
        "        return self\n",
        "\n",
        "    def __next__(self):\n",
        "        if self.count >= self.max_terms:\n",
        "            raise StopIteration\n",
        "        if self.count == 0:\n",
        "            self.count += 1\n",
        "            return self.a\n",
        "        elif self.count == 1:\n",
        "            self.count += 1\n",
        "            return self.b\n",
        "        else:\n",
        "            self.a, self.b = self.b, self.a + self.b\n",
        "            self.count += 1\n",
        "            return self.b\n",
        "\n",
        "fib = FibonacciIterator(10)\n",
        "for num in fib:\n",
        "    print(num)"
      ],
      "metadata": {
        "colab": {
          "base_uri": "https://localhost:8080/"
        },
        "id": "kLPPjdIF5CTw",
        "outputId": "77620403-1709-4c99-993b-ca504cfeffe5"
      },
      "execution_count": 17,
      "outputs": [
        {
          "output_type": "stream",
          "name": "stdout",
          "text": [
            "0\n",
            "1\n",
            "1\n",
            "2\n",
            "3\n",
            "5\n",
            "8\n",
            "13\n",
            "21\n",
            "34\n"
          ]
        }
      ]
    },
    {
      "cell_type": "code",
      "source": [
        "# 6. Write a generator function in Python that yields the powers of 2 up to a given exponent.\n",
        "def powers_of_two(max_exponent):\n",
        "    for exp in range(max_exponent + 1):\n",
        "        yield 2 ** exp\n",
        "\n",
        "for power in powers_of_two(5):\n",
        "    print(power)"
      ],
      "metadata": {
        "colab": {
          "base_uri": "https://localhost:8080/"
        },
        "id": "WLcOY_nW5T0s",
        "outputId": "488ed258-5122-44d3-beb1-7fea7982b281"
      },
      "execution_count": 18,
      "outputs": [
        {
          "output_type": "stream",
          "name": "stdout",
          "text": [
            "1\n",
            "2\n",
            "4\n",
            "8\n",
            "16\n",
            "32\n"
          ]
        }
      ]
    },
    {
      "cell_type": "code",
      "source": [
        "# 7. Implement a generator function that reads a file line by line and yields each line as a string.\n",
        "def read_file_lines(filepath):\n",
        "    try:\n",
        "        with open(filepath, 'r') as file:\n",
        "            for line in file:\n",
        "                yield line.rstrip('\\n')\n",
        "    except FileNotFoundError:\n",
        "        yield \"File not found: \" + filepath\n",
        "\n",
        "for line in read_file_lines(r'C:\\Users\\subha\\OneDrive\\Documents\\example.txt'):\n",
        "    print(line)"
      ],
      "metadata": {
        "colab": {
          "base_uri": "https://localhost:8080/"
        },
        "id": "5ll1aLEd6gZI",
        "outputId": "1d95ce52-a727-4147-ce20-634a6fa239ff"
      },
      "execution_count": 23,
      "outputs": [
        {
          "output_type": "stream",
          "name": "stdout",
          "text": [
            "File not found: C:\\Users\\subha\\OneDrive\\Documents\\example.txt\n"
          ]
        }
      ]
    },
    {
      "cell_type": "code",
      "source": [
        "# 8. Use a lambda function in Python to sort a list of tuples based on the second element of each tuple.\n",
        "my_list = [(101, 55), (102, 43), (103, 72), (104, 31)]\n",
        "sorted_list = sorted(my_list, key=lambda x: x[1])\n",
        "\n",
        "print(\"Sorted list based on second element:\", sorted_list)"
      ],
      "metadata": {
        "colab": {
          "base_uri": "https://localhost:8080/"
        },
        "id": "K1I32bki98Fp",
        "outputId": "2cdaf4b1-5446-4783-914f-c06f8a03dd13"
      },
      "execution_count": 24,
      "outputs": [
        {
          "output_type": "stream",
          "name": "stdout",
          "text": [
            "Sorted list based on second element: [(104, 31), (102, 43), (101, 55), (103, 72)]\n"
          ]
        }
      ]
    },
    {
      "cell_type": "code",
      "source": [
        "# 9. Write a Python program that uses `map()` to convert a list of temperatures from Celsius to Fahrenheit.\n",
        "celsius_temps = [0, 20, 37, 100]\n",
        "\n",
        "fahrenheit_temps = list(map(lambda c: (c * 9/5) + 32, celsius_temps))\n",
        "\n",
        "print(\"Celsius temperatures:\", celsius_temps)\n",
        "print(\"Fahrenheit temperatures:\", fahrenheit_temps)"
      ],
      "metadata": {
        "colab": {
          "base_uri": "https://localhost:8080/"
        },
        "id": "kC1DJzPF-Qgw",
        "outputId": "7828ed5b-56f9-4b49-fb91-53b723aaf34e"
      },
      "execution_count": 25,
      "outputs": [
        {
          "output_type": "stream",
          "name": "stdout",
          "text": [
            "Celsius temperatures: [0, 20, 37, 100]\n",
            "Fahrenheit temperatures: [32.0, 68.0, 98.6, 212.0]\n"
          ]
        }
      ]
    },
    {
      "cell_type": "code",
      "source": [
        "# 10. Create a Python program that uses `filter()` to remove all the vowels from a given string.\n",
        "def remove_vowels(text):\n",
        "    vowels = 'aeiouAEIOU'\n",
        "    return ''.join(filter(lambda char: char not in vowels, text))\n",
        "\n",
        "input_string = \"Data Analytics with Python\"\n",
        "result = remove_vowels(input_string)\n",
        "\n",
        "print(\"Original:\", input_string)\n",
        "print(\"Without vowels:\", result)"
      ],
      "metadata": {
        "colab": {
          "base_uri": "https://localhost:8080/"
        },
        "id": "v3wYvWXq-eqY",
        "outputId": "ef8a9a73-9c37-4126-9cee-81afd1d7f956"
      },
      "execution_count": 26,
      "outputs": [
        {
          "output_type": "stream",
          "name": "stdout",
          "text": [
            "Original: Data Analytics with Python\n",
            "Without vowels: Dt nlytcs wth Pythn\n"
          ]
        }
      ]
    },
    {
      "cell_type": "code",
      "source": [
        "# 11. Imagine an accounting routine used in a book shop. It works on a list with sublists, which look like this:\n",
        "# Write a Python program, which returns a list with 2-tuples. Each tuple consists of the order number and the product of the price per item and the quantity.\n",
        "# The product should be increased by 10,- € if the value of the order is smaller than 100,00 €\n",
        "# Write a Python program using lambda and map.\n",
        "orders = [\n",
        "    [34587, \"Learning Python, Mark Lutz\", 4, 40.95],\n",
        "    [98762, \"Programming Python, Mark Lutz\", 5, 56.80],\n",
        "    [77226, \"Head First Python, Paul Barry\", 3, 32.95],\n",
        "    [88112, \"Einführung in Python3, Bernd Klein\", 3, 24.99]\n",
        "]\n",
        "\n",
        "invoice = list(map(lambda order: (\n",
        "    order[0],\n",
        "    round(order[2] * order[3] + (10 if order[2] * order[3] < 100 else 0), 2)\n",
        "), orders))\n",
        "\n",
        "for item in invoice:\n",
        "    print(item)"
      ],
      "metadata": {
        "colab": {
          "base_uri": "https://localhost:8080/"
        },
        "id": "5ppB3nQj-5lb",
        "outputId": "7c99fb4a-b0fb-486e-ded6-542a94a67538"
      },
      "execution_count": 27,
      "outputs": [
        {
          "output_type": "stream",
          "name": "stdout",
          "text": [
            "(34587, 163.8)\n",
            "(98762, 284.0)\n",
            "(77226, 108.85)\n",
            "(88112, 84.97)\n"
          ]
        }
      ]
    }
  ]
}